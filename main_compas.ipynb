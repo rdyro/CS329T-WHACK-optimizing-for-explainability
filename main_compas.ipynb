{
 "cells": [
  {
   "cell_type": "markdown",
   "metadata": {},
   "source": [
    "# Setup"
   ]
  },
  {
   "cell_type": "code",
   "execution_count": 1,
   "metadata": {
    "cell_id": "00002-f0819b38-c012-4fd9-b1a0-40b32986cb21",
    "colab": {},
    "colab_type": "code",
    "deepnote_cell_height": 318.171875,
    "deepnote_cell_type": "code",
    "id": "wzEwkr3SoyLh"
   },
   "outputs": [
    {
     "name": "stdout",
     "output_type": "stream",
     "text": [
      "The autoreload extension is already loaded. To reload it, use:\n",
      "  %reload_ext autoreload\n"
     ]
    }
   ],
   "source": [
    "%autoreload 2\n",
    "%load_ext autoreload\n",
    "%matplotlib widget\n",
    "\n",
    "import sys, os, pickle, pdb, shutil, re, math, glob\n",
    "from copy import deepcopy, copy\n",
    "from pathlib import Path\n",
    "from pprint import pprint\n",
    "from typing import Union, Callable\n",
    "from dataclasses import dataclass\n",
    "\n",
    "import psutil\n",
    "from tqdm.notebook import tqdm\n",
    "import pandas as pd, numpy as np, torch, matplotlib.pyplot as plt\n",
    "\n",
    "plt.rcParams[\"figure.dpi\"] = 200\n",
    "import torchvision.transforms as T\n",
    "from torch.utils.tensorboard import SummaryWriter\n",
    "\n",
    "from optimizing_for_explainability.penalty_functions import mse_penalty, exact_penalty, super_exact_penalty\n",
    "from optimizing_for_explainability.penalties import LIME_penalty, SHAP_penalty\n",
    "from optimizing_for_explainability.fairness_metrics import fairness_metric\n",
    "\n",
    "# import the shap module\n",
    "paths = [Path(\"\").parent.absolute() / \"shap\", Path(\"\").parent.absolute() / \"shap_original\"]\n",
    "for path in paths:\n",
    "    if str(path) not in sys.path:\n",
    "        sys.path.insert(0, str(path))\n",
    "import shap, shap_original\n",
    "\n",
    "# set the global dtype and device to work with\n",
    "DTYPE, DEVICE = torch.float32, torch.device(\"cuda\")\n",
    "TOPTS = dict(dtype=DTYPE, device=DEVICE)  # tensor options"
   ]
  },
  {
   "cell_type": "code",
   "execution_count": 2,
   "metadata": {
    "cell_id": "00002-f0819b38-c012-4fd9-b1a0-40b32986cb21",
    "colab": {},
    "colab_type": "code",
    "deepnote_cell_height": 318.171875,
    "deepnote_cell_type": "code",
    "id": "wzEwkr3SoyLh"
   },
   "outputs": [],
   "source": [
    "# Preprocess the data\n",
    "df = pd.read_csv(Path(\"\") / \"data\" / \"compas\" / \"cox-violent-parsed_filt.csv\")\n",
    "\n",
    "# Filter out entries with no indication of recidivism or no compass score\n",
    "df = df[df[\"is_recid\"] != -1]\n",
    "\n",
    "df = df[df[\"decile_score\"] != -1]\n",
    "# Rename recidivism column\n",
    "df[\"recidivism_within_2_years\"] = df[\"is_recid\"]\n",
    "\n",
    "# Make the COMPASS label column numeric (0 and 1), for use in our model\n",
    "df[\"COMPASS_determination\"] = np.where(df[\"score_text\"] == \"Low\", 0, 1)\n",
    "\n",
    "df = pd.get_dummies(df, columns=[\"sex\", \"race\"])\n",
    "\n",
    "# Get list of all columns from the dataset we will use for model input or output.\n",
    "input_features = [\n",
    "    \"sex_Female\",\n",
    "    \"sex_Male\",\n",
    "    \"age\",\n",
    "    \"race_African-American\",\n",
    "    \"race_Caucasian\",\n",
    "    \"race_Hispanic\",\n",
    "    \"race_Native American\",\n",
    "    \"race_Other\",\n",
    "    \"priors_count\",\n",
    "    \"juv_fel_count\",\n",
    "    \"juv_misd_count\",\n",
    "    \"juv_other_count\",\n",
    "]\n",
    "\n",
    "to_keep = input_features + [\"recidivism_within_2_years\", \"COMPASS_determination\"]\n",
    "\n",
    "to_remove = [col for col in df.columns if col not in to_keep]\n",
    "df = df.drop(columns=to_remove)\n",
    "\n",
    "input_columns = df.columns.tolist()\n",
    "labels = df[\"COMPASS_determination\"]\n",
    "\n",
    "# Create data structures needing for training and testing.\n",
    "# The training data doesn't contain the column we are predicting,\n",
    "# 'COMPASS_determination', or the column we are using for evaluation of our\n",
    "# trained model, 'recidivism_within_2_years'.\n",
    "df_for_training = df.drop(columns=[\"COMPASS_determination\", \"recidivism_within_2_years\"])\n",
    "train_size = int(len(df_for_training) * 0.8)\n",
    "\n",
    "train_data = df_for_training[:train_size]\n",
    "train_labels = labels[:train_size]\n",
    "test_data = df_for_training[train_size:]\n",
    "test_labels = labels[train_size:]\n",
    "\n",
    "test_data_with_labels = df[train_size:]\n",
    "\n",
    "# extract the data into datasets and data loaders ##############################\n",
    "Xtr, Ytr = train_data.values, train_labels.values\n",
    "Xts, Yts = test_data.values, test_labels.values\n",
    "MU, STD = np.mean(Xtr, -2), np.std(Xtr, -2)\n",
    "normalize_fn = lambda x: (x - MU[None, ...]) / STD[None, ...]\n",
    "Xtr = normalize_fn(Xtr)\n",
    "Xts = normalize_fn(Xts)\n",
    "train_loader = torch.utils.data.DataLoader(list(zip(*[Xtr, Ytr])), batch_size=1024, num_workers=0)\n",
    "test_loader = torch.utils.data.DataLoader(list(zip(*[Xts, Yts])), batch_size=1024, num_workers=0)\n",
    "\n",
    "# define protected variables\n",
    "race_labels, RACE_IDX = zip(\n",
    "    *[(z, i) for (i, z) in enumerate(train_data.columns) if re.match(r\"race_.*\", z) is not None]\n",
    ")"
   ]
  },
  {
   "cell_type": "code",
   "execution_count": 3,
   "metadata": {
    "cell_id": "00005-62743ad9-fb8b-453d-9b8e-f601cd11e0da",
    "colab": {},
    "colab_type": "code",
    "deepnote_cell_height": 264.15625,
    "deepnote_cell_type": "code",
    "id": "5T2XThgosWX-"
   },
   "outputs": [],
   "source": [
    "def generate_model(config):\n",
    "    # This is the size of the array we'll be feeding into our model for each example\n",
    "    input_size = len(train_data.iloc[0])\n",
    "    activation = torch.nn.Softplus(1e1)\n",
    "\n",
    "    model = (\n",
    "        torch.nn.Sequential(\n",
    "            torch.nn.Linear(input_size, 128),\n",
    "            copy(activation),\n",
    "            torch.nn.Linear(128, 128),\n",
    "            copy(activation),\n",
    "            torch.nn.Linear(128, 1),\n",
    "            torch.nn.Sigmoid(),\n",
    "        )\n",
    "        .to(DTYPE)\n",
    "        .to(DEVICE)\n",
    "    )\n",
    "    loss_obj = torch.nn.BCELoss()\n",
    "\n",
    "    def loss_fn(Yp, Y, **kw):\n",
    "        kw = dict(config, **kw)\n",
    "        loss = loss_obj(Yp, Y)\n",
    "        loss = loss + sum(config[\"lam\"] * torch.sum(param**2) / 2 for param in model.parameters())\n",
    "        return loss\n",
    "\n",
    "    def cstr_fn(**kw):\n",
    "        kw = dict(config, **kw)\n",
    "        penalty_fn = lambda x: exact_penalty(x, kw.get(\"gam\", None))\n",
    "\n",
    "        if kw.get(\"method\", \"\").lower() == \"lime\":\n",
    "            loss_penalty = LIME_penalty(\n",
    "                RACE_IDX,\n",
    "                model,\n",
    "                train_loader.dataset,\n",
    "                STD,\n",
    "                penalty_fn=penalty_fn,\n",
    "                test_samples=kw[\"test_samples\"],\n",
    "                bg_samples=kw[\"bg_samples\"],\n",
    "                sample_std=kw[\"sample_std\"],\n",
    "            )\n",
    "        elif kw.get(\"method\", \"\").lower() == \"shap\":\n",
    "            loss_penalty = SHAP_penalty(\n",
    "                RACE_IDX,\n",
    "                model,\n",
    "                train_loader.dataset,\n",
    "                penalty_fn=penalty_fn,\n",
    "                test_samples=kw[\"test_samples\"],\n",
    "                bg_samples=kw[\"bg_samples\"],\n",
    "            )\n",
    "        else:\n",
    "            return (0, (None for _ in model.parameters()))\n",
    "        return loss_penalty\n",
    "\n",
    "    optimizer = torch.optim.Adam(model.parameters(), lr=1e-3)\n",
    "    scheduler = torch.optim.lr_scheduler.StepLR(optimizer, step_size=10, gamma=0.3)\n",
    "    return model, loss_fn, cstr_fn, optimizer, scheduler\n",
    "\n",
    "\n",
    "def accuracy(model, loader):\n",
    "    correct = 0\n",
    "    with torch.no_grad():\n",
    "        for X, Y in loader:\n",
    "            X, Y = X.to(DTYPE).to(DEVICE), Y.to(DEVICE)\n",
    "            Yp = model(X)\n",
    "            correct += torch.sum((Yp > 0.5).reshape(Y.shape) == Y).detach()\n",
    "    return correct / len(loader.dataset)"
   ]
  },
  {
   "cell_type": "markdown",
   "metadata": {},
   "source": [
    "# LIME Experiments"
   ]
  },
  {
   "cell_type": "code",
   "execution_count": 28,
   "metadata": {},
   "outputs": [
    {
     "data": {
      "application/vnd.jupyter.widget-view+json": {
       "model_id": "b801dd07c8084a13beae80cdb8106ac2",
       "version_major": 2,
       "version_minor": 0
      },
      "text/plain": [
       "  0%|          | 0/20 [00:00<?, ?it/s]"
      ]
     },
     "metadata": {},
     "output_type": "display_data"
    }
   ],
   "source": [
    "model_idx = 0\n",
    "\n",
    "\n",
    "def main(config):\n",
    "    global model_idx\n",
    "    model, loss_fn, cstr_fn, optimizer, scheduler = generate_model(config)\n",
    "    shutil.rmtree(Path(\"\") / \"runs\")\n",
    "    writer = SummaryWriter()\n",
    "    hist = dict()\n",
    "    rng = tqdm(range(int(20)))\n",
    "    step = -1\n",
    "    for epoch in rng:\n",
    "        for (i, (X, Y)) in enumerate(train_loader):\n",
    "            step += 1\n",
    "            X, Y = X.to(DTYPE).to(DEVICE), Y.to(DTYPE).to(DEVICE)  # sample a batch\n",
    "            optimizer.zero_grad()  # zero gradients\n",
    "            cstr_val, grads = cstr_fn()\n",
    "            for (grad, param) in zip(grads, model.parameters()):\n",
    "                if grad is not None:\n",
    "                    param.grad = grad\n",
    "            if config.get(\"method\", \"\").lower() == \"masked\":\n",
    "                X[..., RACE_IDX] = X[..., RACE_IDX] * 0\n",
    "            loss = loss_fn(model(X).reshape(Y.shape), Y)\n",
    "            loss.backward()\n",
    "\n",
    "            optimizer.step()\n",
    "            writer.add_scalar(\"loss/train\", float(loss), step)\n",
    "            writer.add_scalar(\"step_size\", float(optimizer.param_groups[0][\"lr\"]), step)\n",
    "            writer.add_scalar(\"penalty_metric\", float(cstr_val), step)\n",
    "            hist.setdefault(\"train_loss\", []).append(float(loss))\n",
    "            hist.setdefault(\"penalty_metric\", []).append(float(cstr_val))\n",
    "            writer.flush()\n",
    "        scheduler.step()\n",
    "        test_acc = accuracy(model, test_loader)\n",
    "        train_acc = accuracy(model, train_loader)\n",
    "        hist.setdefault(\"test_acc\", []).append(float(test_acc))\n",
    "        hist.setdefault(\"train_acc\", []).append(float(train_acc))\n",
    "        rng.set_description(f\"Accuracy = (test = {1e2 * test_acc:.3f}%, train = {1e2 * train_acc:.3f}%)\")\n",
    "        writer.add_scalar(\"acc/train\", float(train_acc), step)\n",
    "        writer.add_scalar(\"acc/test\", float(test_acc), step)\n",
    "    fname = Path(\"\") / \"data\" / f\"compas_model_snap_{model_idx}.bin\"\n",
    "    model_idx += 1\n",
    "    torch.save((config, hist, model), fname)\n",
    "\n",
    "\n",
    "model_idx = 3\n",
    "configs = [\n",
    "    # dict(lam=1e-3),\n",
    "    # dict(test_samples=int(1e2), bg_samples=int(1e3), sample_std=1e-2, method=\"LIME\", lam=1e-3, gam=1e1),\n",
    "    # dict(test_samples=int(1e1), bg_samples=int(1e2), method=\"SHAP\", lam=1e-3, gam=1e1),\n",
    "    dict(lam=1e-3, method=\"masked\"),\n",
    "]\n",
    "for config in configs:\n",
    "    main(config)"
   ]
  },
  {
   "cell_type": "markdown",
   "metadata": {},
   "source": [
    "## Generate Accuracy vs Penalty Strength Graph"
   ]
  },
  {
   "cell_type": "markdown",
   "metadata": {},
   "source": [
    "### LIME"
   ]
  },
  {
   "cell_type": "code",
   "execution_count": 6,
   "metadata": {},
   "outputs": [
    {
     "data": {
      "application/vnd.jupyter.widget-view+json": {
       "model_id": "3f928f00219a493c9d07ae5033c6d515",
       "version_major": 2,
       "version_minor": 0
      },
      "text/plain": [
       "  0%|          | 0/15 [00:00<?, ?it/s]"
      ]
     },
     "metadata": {},
     "output_type": "display_data"
    },
    {
     "data": {
      "application/vnd.jupyter.widget-view+json": {
       "model_id": "62c45fe9ef9f4162baec85d87250f74a",
       "version_major": 2,
       "version_minor": 0
      },
      "text/plain": [
       "  0%|          | 0/15 [00:00<?, ?it/s]"
      ]
     },
     "metadata": {},
     "output_type": "display_data"
    },
    {
     "data": {
      "application/vnd.jupyter.widget-view+json": {
       "model_id": "919a2cfbea674fd7b4b391d393a67440",
       "version_major": 2,
       "version_minor": 0
      },
      "text/plain": [
       "  0%|          | 0/15 [00:00<?, ?it/s]"
      ]
     },
     "metadata": {},
     "output_type": "display_data"
    },
    {
     "data": {
      "application/vnd.jupyter.widget-view+json": {
       "model_id": "bf39d61de2534e22936249807ec51d70",
       "version_major": 2,
       "version_minor": 0
      },
      "text/plain": [
       "  0%|          | 0/15 [00:00<?, ?it/s]"
      ]
     },
     "metadata": {},
     "output_type": "display_data"
    },
    {
     "data": {
      "application/vnd.jupyter.widget-view+json": {
       "model_id": "3b1ebc64ff8d4c0eb29d7f514d381c47",
       "version_major": 2,
       "version_minor": 0
      },
      "text/plain": [
       "  0%|          | 0/15 [00:00<?, ?it/s]"
      ]
     },
     "metadata": {},
     "output_type": "display_data"
    },
    {
     "data": {
      "application/vnd.jupyter.widget-view+json": {
       "model_id": "5ac229a3fb9541d1adcdbd2a1b9e449c",
       "version_major": 2,
       "version_minor": 0
      },
      "text/plain": [
       "  0%|          | 0/15 [00:00<?, ?it/s]"
      ]
     },
     "metadata": {},
     "output_type": "display_data"
    },
    {
     "data": {
      "application/vnd.jupyter.widget-view+json": {
       "model_id": "19a5794484b5492b99dd3154963f6cc8",
       "version_major": 2,
       "version_minor": 0
      },
      "text/plain": [
       "  0%|          | 0/15 [00:00<?, ?it/s]"
      ]
     },
     "metadata": {},
     "output_type": "display_data"
    },
    {
     "data": {
      "application/vnd.jupyter.widget-view+json": {
       "model_id": "00335bf844e443b3ae8462f2323192bf",
       "version_major": 2,
       "version_minor": 0
      },
      "text/plain": [
       "  0%|          | 0/15 [00:00<?, ?it/s]"
      ]
     },
     "metadata": {},
     "output_type": "display_data"
    },
    {
     "data": {
      "application/vnd.jupyter.widget-view+json": {
       "model_id": "a6bb4b8c006e465d81967835af305b74",
       "version_major": 2,
       "version_minor": 0
      },
      "text/plain": [
       "  0%|          | 0/15 [00:00<?, ?it/s]"
      ]
     },
     "metadata": {},
     "output_type": "display_data"
    },
    {
     "data": {
      "application/vnd.jupyter.widget-view+json": {
       "model_id": "64094c632d3446809daa3c6f7e529cf7",
       "version_major": 2,
       "version_minor": 0
      },
      "text/plain": [
       "  0%|          | 0/15 [00:00<?, ?it/s]"
      ]
     },
     "metadata": {},
     "output_type": "display_data"
    }
   ],
   "source": [
    "shutil.rmtree(Path(\"\") / \"runs\")\n",
    "\n",
    "def check_gam(config):\n",
    "    model, loss_fn, cstr_fn, optimizer, scheduler = generate_model(config)\n",
    "    #shutil.rmtree(Path(\"\") / \"runs\")\n",
    "    writer = SummaryWriter()\n",
    "    rng = tqdm(range(int(15)))\n",
    "    test_acc, step, hist = 0, -1, dict()\n",
    "    for epoch in rng:\n",
    "        for (i, (X, Y)) in enumerate(train_loader):\n",
    "            step += 1\n",
    "            X, Y = X.to(DTYPE).to(DEVICE), Y.to(DTYPE).to(DEVICE)  # sample a batch\n",
    "            optimizer.zero_grad()  # zero gradients\n",
    "            cstr_val, grads = cstr_fn()\n",
    "            for (grad, param) in zip(grads, model.parameters()):\n",
    "                if grad is not None:\n",
    "                    param.grad = grad\n",
    "            loss = loss_fn(model(X).reshape(Y.shape), Y)\n",
    "            loss.backward()\n",
    "\n",
    "            optimizer.step()\n",
    "            writer.add_scalar(\"loss/train\", float(loss), step)\n",
    "            writer.add_scalar(\"step_size\", float(optimizer.param_groups[0][\"lr\"]), step)\n",
    "            writer.add_scalar(\"penalty_metric\", float(cstr_val), step)\n",
    "            hist.setdefault(\"train_loss\", []).append(float(loss))\n",
    "            hist.setdefault(\"penalty_metric\", []).append(float(cstr_val))\n",
    "            writer.flush()\n",
    "        scheduler.step()\n",
    "        test_acc = accuracy(model, test_loader)\n",
    "        train_acc = accuracy(model, train_loader)\n",
    "        hist.setdefault(\"test_acc\", []).append(float(test_acc))\n",
    "        hist.setdefault(\"train_acc\", []).append(float(train_acc))\n",
    "        rng.set_description(f\"Accuracy = (test = {1e2 * test_acc:.3f}%, train = {1e2 * train_acc:.3f}%)\")\n",
    "        writer.add_scalar(\"acc/train\", float(train_acc), step)\n",
    "        writer.add_scalar(\"acc/test\", float(test_acc), step)\n",
    "        \n",
    "    cstr_vals = []\n",
    "    for _ in range(5):\n",
    "        cstr_val, _ = LIME_penalty(\n",
    "                RACE_IDX,\n",
    "                model,\n",
    "                train_loader.dataset,\n",
    "                STD,\n",
    "                penalty_fn=lambda x: exact_penalty(x, gam=config[\"gam\"]),\n",
    "                test_samples=config[\"test_samples\"],\n",
    "                bg_samples=config[\"bg_samples\"],\n",
    "                sample_std=config[\"sample_std\"],\n",
    "            )\n",
    "        cstr_vals.append(float(cstr_val))\n",
    "    return np.mean(cstr_vals) / config[\"gam\"], test_acc, hist\n",
    "\n",
    "\n",
    "lime_gams = 10.0 ** np.linspace(-2, 2, 10)\n",
    "config = dict(test_samples=int(1e2), bg_samples=int(1e3), sample_std=1e-2, method=\"LIME\", lam=1e-3, gam=1e1)\n",
    "lime_rets = [check_gam(dict(config, gam=gam)) for gam in lime_gams]"
   ]
  },
  {
   "cell_type": "code",
   "execution_count": 12,
   "metadata": {},
   "outputs": [
    {
     "data": {
      "application/vnd.jupyter.widget-view+json": {
       "model_id": "dafd70b82ef24b669f9f3eb21296fdd1",
       "version_major": 2,
       "version_minor": 0
      },
      "text/html": [
       "\n",
       "            <div style=\"display: inline-block;\">\n",
       "                <div class=\"jupyter-widgets widget-label\" style=\"text-align: center;\">\n",
       "                    Figure\n",
       "                </div>\n",
       "                <img src='data:image/png;base64,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' width=1280.0/>\n",
       "            </div>\n",
       "        "
      ],
      "text/plain": [
       "Canvas(toolbar=Toolbar(toolitems=[('Home', 'Reset original view', 'home', 'home'), ('Back', 'Back to previous …"
      ]
     },
     "metadata": {},
     "output_type": "display_data"
    }
   ],
   "source": [
    "score = [float(ret[0]) for ret in lime_rets]\n",
    "accs = [float(ret[1]) for ret in lime_rets]\n",
    "\n",
    "fig, axs = plt.subplots(1, 1) \n",
    "axs = [axs] \n",
    "axs[0].plot(lime_gams, score, marker=\".\", color=\"C0\") \n",
    "axs[0].set_ylabel(\"LIME score\", color=\"C0\") \n",
    "axs[0].set_xlabel(\"Penalty Strength\") \n",
    "axs[0].set_yscale(\"log\") \n",
    "axs[0].set_xscale(\"log\") \n",
    "axs[0].spines[\"left\"].set_color(\"C0\") \n",
    "axs[0].spines[\"right\"].set_color(\"C0\") \n",
    "axs[0].tick_params(axis=\"y\", colors=\"C0\", which=\"both\") \n",
    " \n",
    "ax = axs[0].twinx() \n",
    "ax.plot(gams, accs, marker=\".\", color=\"C1\") \n",
    "#ax.set_yscale(\"log\") \n",
    " \n",
    "ax.set_ylabel(\"Test Accuracy\", color=\"C1\") \n",
    "#ax.spines[\"right\"].set_color(\"C1\") \n",
    "ax.tick_params(axis=\"y\", colors=\"C1\") \n",
    " \n",
    "#axs[1].loglog(lime_score, accs, marker=\".\") \n",
    " \n",
    "plt.tight_layout() \n",
    "plt.savefig(\"figures/lime_reg.png\", dpi=200, bbox_inches=\"tight\")\n",
    "plt.show()"
   ]
  },
  {
   "cell_type": "code",
   "execution_count": 5,
   "metadata": {},
   "outputs": [
    {
     "data": {
      "application/vnd.jupyter.widget-view+json": {
       "model_id": "67f230463b8b453ba710034f459e7e96",
       "version_major": 2,
       "version_minor": 0
      },
      "text/plain": [
       "  0%|          | 0/15 [00:00<?, ?it/s]"
      ]
     },
     "metadata": {},
     "output_type": "display_data"
    },
    {
     "data": {
      "application/vnd.jupyter.widget-view+json": {
       "model_id": "29d762d8ccdc4e12b97c3097dc4da87a",
       "version_major": 2,
       "version_minor": 0
      },
      "text/plain": [
       "  0%|          | 0/15 [00:00<?, ?it/s]"
      ]
     },
     "metadata": {},
     "output_type": "display_data"
    },
    {
     "data": {
      "application/vnd.jupyter.widget-view+json": {
       "model_id": "aaa29aa6765e4dd5a0b00da45425eb02",
       "version_major": 2,
       "version_minor": 0
      },
      "text/plain": [
       "  0%|          | 0/15 [00:00<?, ?it/s]"
      ]
     },
     "metadata": {},
     "output_type": "display_data"
    },
    {
     "data": {
      "application/vnd.jupyter.widget-view+json": {
       "model_id": "3c9a1742955f479681e57b6ced17b074",
       "version_major": 2,
       "version_minor": 0
      },
      "text/plain": [
       "  0%|          | 0/15 [00:00<?, ?it/s]"
      ]
     },
     "metadata": {},
     "output_type": "display_data"
    },
    {
     "data": {
      "application/vnd.jupyter.widget-view+json": {
       "model_id": "625f5d8cb8d042a6b50e4b1b8ffeab97",
       "version_major": 2,
       "version_minor": 0
      },
      "text/plain": [
       "  0%|          | 0/15 [00:00<?, ?it/s]"
      ]
     },
     "metadata": {},
     "output_type": "display_data"
    },
    {
     "data": {
      "application/vnd.jupyter.widget-view+json": {
       "model_id": "eeaca80dce004798be5bd3fd06a3b5eb",
       "version_major": 2,
       "version_minor": 0
      },
      "text/plain": [
       "  0%|          | 0/15 [00:00<?, ?it/s]"
      ]
     },
     "metadata": {},
     "output_type": "display_data"
    },
    {
     "data": {
      "application/vnd.jupyter.widget-view+json": {
       "model_id": "d6bb5bb7609f4022a33e6710fbffd067",
       "version_major": 2,
       "version_minor": 0
      },
      "text/plain": [
       "  0%|          | 0/15 [00:00<?, ?it/s]"
      ]
     },
     "metadata": {},
     "output_type": "display_data"
    },
    {
     "data": {
      "application/vnd.jupyter.widget-view+json": {
       "model_id": "6109e58077a64ff4b4bc0d131268db39",
       "version_major": 2,
       "version_minor": 0
      },
      "text/plain": [
       "  0%|          | 0/15 [00:00<?, ?it/s]"
      ]
     },
     "metadata": {},
     "output_type": "display_data"
    },
    {
     "data": {
      "application/vnd.jupyter.widget-view+json": {
       "model_id": "161909d4fd02498c9f27f6ccad026e11",
       "version_major": 2,
       "version_minor": 0
      },
      "text/plain": [
       "  0%|          | 0/15 [00:00<?, ?it/s]"
      ]
     },
     "metadata": {},
     "output_type": "display_data"
    },
    {
     "data": {
      "application/vnd.jupyter.widget-view+json": {
       "model_id": "7a30ec58d2084a1a93e5e569fdb03f4a",
       "version_major": 2,
       "version_minor": 0
      },
      "text/plain": [
       "  0%|          | 0/15 [00:00<?, ?it/s]"
      ]
     },
     "metadata": {},
     "output_type": "display_data"
    }
   ],
   "source": [
    "if (Path(\"\") / \"runs\").exists():\n",
    "    shutil.rmtree(Path(\"\") / \"runs\")\n",
    "\n",
    "def check_gam(config):\n",
    "    model, loss_fn, cstr_fn, optimizer, scheduler = generate_model(config)\n",
    "    #shutil.rmtree(Path(\"\") / \"runs\")\n",
    "    writer = SummaryWriter()\n",
    "    rng = tqdm(range(int(15)))\n",
    "    test_acc, step, hist = 0, -1, dict()\n",
    "    for epoch in rng:\n",
    "        for (i, (X, Y)) in enumerate(train_loader):\n",
    "            step += 1\n",
    "            X, Y = X.to(DTYPE).to(DEVICE), Y.to(DTYPE).to(DEVICE)  # sample a batch\n",
    "            optimizer.zero_grad()  # zero gradients\n",
    "            cstr_val, grads = cstr_fn()\n",
    "            for (grad, param) in zip(grads, model.parameters()):\n",
    "                if grad is not None:\n",
    "                    param.grad = grad\n",
    "            loss = loss_fn(model(X).reshape(Y.shape), Y)\n",
    "            loss.backward()\n",
    "\n",
    "            optimizer.step()\n",
    "            writer.add_scalar(\"loss/train\", float(loss), step)\n",
    "            writer.add_scalar(\"step_size\", float(optimizer.param_groups[0][\"lr\"]), step)\n",
    "            writer.add_scalar(\"penalty_metric\", float(cstr_val), step)\n",
    "            hist.setdefault(\"train_loss\", []).append(float(loss))\n",
    "            hist.setdefault(\"penalty_metric\", []).append(float(cstr_val))\n",
    "            writer.flush()\n",
    "        scheduler.step()\n",
    "        test_acc = accuracy(model, test_loader)\n",
    "        train_acc = accuracy(model, train_loader)\n",
    "        hist.setdefault(\"test_acc\", []).append(float(test_acc))\n",
    "        hist.setdefault(\"train_acc\", []).append(float(train_acc))\n",
    "        rng.set_description(f\"Accuracy = (test = {1e2 * test_acc:.3f}%, train = {1e2 * train_acc:.3f}%)\")\n",
    "        writer.add_scalar(\"acc/train\", float(train_acc), step)\n",
    "        writer.add_scalar(\"acc/test\", float(test_acc), step)\n",
    "        \n",
    "    cstr_vals = []\n",
    "    for _ in range(5):\n",
    "        cstr_val, _ = SHAP_penalty(\n",
    "                RACE_IDX,\n",
    "                model,\n",
    "                train_loader.dataset,\n",
    "                penalty_fn=lambda x: exact_penalty(x, gam=config[\"gam\"]),\n",
    "                test_samples=config[\"test_samples\"],\n",
    "                bg_samples=config[\"bg_samples\"],\n",
    "            )\n",
    "        cstr_vals.append(float(cstr_val))\n",
    "    return np.mean(cstr_vals) / config[\"gam\"], test_acc, hist\n",
    "\n",
    "\n",
    "shap_gams = 10.0 ** np.linspace(-2, 3, 10)\n",
    "config =  dict(test_samples=int(1e1), bg_samples=int(1e2), method=\"SHAP\", lam=1e-3, gam=1e1)\n",
    "shap_rets = [check_gam(dict(config, gam=gam)) for gam in shap_gams]"
   ]
  },
  {
   "cell_type": "code",
   "execution_count": 7,
   "metadata": {},
   "outputs": [
    {
     "data": {
      "application/vnd.jupyter.widget-view+json": {
       "model_id": "a170a1e1df854feba1a70d71e4ba0db1",
       "version_major": 2,
       "version_minor": 0
      },
      "text/html": [
       "\n",
       "            <div style=\"display: inline-block;\">\n",
       "                <div class=\"jupyter-widgets widget-label\" style=\"text-align: center;\">\n",
       "                    Figure\n",
       "                </div>\n",
       "                <img src='data:image/png;base64,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' width=1280.0/>\n",
       "            </div>\n",
       "        "
      ],
      "text/plain": [
       "Canvas(toolbar=Toolbar(toolitems=[('Home', 'Reset original view', 'home', 'home'), ('Back', 'Back to previous …"
      ]
     },
     "metadata": {},
     "output_type": "display_data"
    }
   ],
   "source": [
    "score = [float(ret[0]) for ret in shap_rets]\n",
    "accs = [float(ret[1]) for ret in shap_rets]\n",
    "\n",
    "fig, axs = plt.subplots(1, 1) \n",
    "axs = [axs] \n",
    "axs[0].plot(shap_gams, score, marker=\".\", color=\"C0\") \n",
    "axs[0].set_ylabel(\"SHAP score\", color=\"C0\") \n",
    "axs[0].set_xlabel(\"Penalty Strength\") \n",
    "axs[0].set_yscale(\"log\") \n",
    "axs[0].set_xscale(\"log\") \n",
    "axs[0].spines[\"left\"].set_color(\"C0\") \n",
    "axs[0].spines[\"right\"].set_color(\"C0\") \n",
    "axs[0].tick_params(axis=\"y\", colors=\"C0\", which=\"both\") \n",
    " \n",
    "ax = axs[0].twinx() \n",
    "ax.plot(shap_gams, accs, marker=\".\", color=\"C1\") \n",
    "#ax.set_yscale(\"log\") \n",
    " \n",
    "ax.set_ylabel(\"Test Accuracy\", color=\"C1\") \n",
    "#ax.spines[\"right\"].set_color(\"C1\") \n",
    "ax.tick_params(axis=\"y\", colors=\"C1\") \n",
    " \n",
    "#axs[1].loglog(lime_score, accs, marker=\".\") \n",
    " \n",
    "plt.tight_layout() \n",
    "plt.savefig(\"figures/shap_reg.png\", dpi=200, bbox_inches=\"tight\")\n",
    "plt.show()"
   ]
  },
  {
   "cell_type": "markdown",
   "metadata": {},
   "source": [
    "--------------------------------------------------------------------------------"
   ]
  },
  {
   "cell_type": "markdown",
   "metadata": {},
   "source": [
    "# Evaluate models trained"
   ]
  },
  {
   "cell_type": "code",
   "execution_count": 5,
   "metadata": {},
   "outputs": [
    {
     "name": "stdout",
     "output_type": "stream",
     "text": [
      "Equalized Odds\n",
      "Groups TP rate:0.566\t0.324\t0.282\t0.488\t0.231\n",
      "Groups TN rate:0.159\t0.380\t0.406\t0.279\t0.423\n",
      "\n",
      "Equality of Opportunity\n",
      "Groups TP rate:0.566\t0.324\t0.282\t0.488\t0.231\n",
      "\n",
      "Demographic Parity\n",
      "Group predicted positive rate:0.569\t0.504\t0.502\t0.544\t0.500\n",
      "\n",
      "Predictive Parity\n",
      "Group precision :0.751503\t0.616926\t0.540146\t0.700000\t0.421918\n",
      "\n",
      "Accuracy\n",
      "Group accuracy:0.724694\t0.703775\t0.687619\t0.767442\t0.653673\n",
      "\n"
     ]
    },
    {
     "data": {
      "application/vnd.jupyter.widget-view+json": {
       "model_id": "73ba925a280c41bdb38ad48ce49667b4",
       "version_major": 2,
       "version_minor": 0
      },
      "text/plain": [
       "  0%|          | 0/10 [00:00<?, ?it/s]"
      ]
     },
     "metadata": {},
     "output_type": "display_data"
    },
    {
     "data": {
      "application/vnd.jupyter.widget-view+json": {
       "model_id": "cd67a00f444144aa843e8f6e19ec2534",
       "version_major": 2,
       "version_minor": 0
      },
      "text/plain": [
       "  0%|          | 0/10 [00:00<?, ?it/s]"
      ]
     },
     "metadata": {},
     "output_type": "display_data"
    },
    {
     "name": "stderr",
     "output_type": "stream",
     "text": [
      "Using a non-full backward hook when the forward contains multiple autograd Nodes is deprecated and will be removed in future versions. This hook will be missing some grad_input. Please use register_full_backward_hook to get the documented behavior.\n"
     ]
    },
    {
     "name": "stdout",
     "output_type": "stream",
     "text": [
      "Equalized Odds\n",
      "Groups TP rate:0.563\t0.268\t0.215\t0.419\t0.097\n",
      "Groups TN rate:0.187\t0.483\t0.568\t0.488\t0.676\n",
      "\n",
      "Equality of Opportunity\n",
      "Groups TP rate:0.563\t0.268\t0.215\t0.419\t0.097\n",
      "\n",
      "Demographic Parity\n",
      "Group predicted positive rate:0.650\t0.419\t0.354\t0.496\t0.264\n",
      "\n",
      "Predictive Parity\n",
      "Group precision :0.780033\t0.731107\t0.733766\t1.000000\t0.607477\n",
      "\n",
      "Accuracy\n",
      "Group accuracy:0.750133\t0.750322\t0.782857\t0.906977\t0.773613\n",
      "\n"
     ]
    },
    {
     "data": {
      "application/vnd.jupyter.widget-view+json": {
       "model_id": "bb8ed59dfb3d4834a3090e94548c0f1f",
       "version_major": 2,
       "version_minor": 0
      },
      "text/plain": [
       "  0%|          | 0/10 [00:00<?, ?it/s]"
      ]
     },
     "metadata": {},
     "output_type": "display_data"
    },
    {
     "data": {
      "application/vnd.jupyter.widget-view+json": {
       "model_id": "5e1aca8dac6842a19937c21ae7728038",
       "version_major": 2,
       "version_minor": 0
      },
      "text/plain": [
       "  0%|          | 0/10 [00:00<?, ?it/s]"
      ]
     },
     "metadata": {},
     "output_type": "display_data"
    },
    {
     "name": "stderr",
     "output_type": "stream",
     "text": [
      "Using a non-full backward hook when the forward contains multiple autograd Nodes is deprecated and will be removed in future versions. This hook will be missing some grad_input. Please use register_full_backward_hook to get the documented behavior.\n"
     ]
    },
    {
     "name": "stdout",
     "output_type": "stream",
     "text": [
      "Equalized Odds\n",
      "Groups TP rate:0.525\t0.299\t0.268\t0.488\t0.192\n",
      "Groups TN rate:0.227\t0.440\t0.514\t0.419\t0.576\n",
      "\n",
      "Equality of Opportunity\n",
      "Groups TP rate:0.525\t0.299\t0.268\t0.488\t0.192\n",
      "\n",
      "Demographic Parity\n",
      "Group predicted positive rate:0.603\t0.460\t0.429\t0.531\t0.398\n",
      "\n",
      "Predictive Parity\n",
      "Group precision :0.815757\t0.679512\t0.670644\t0.875000\t0.540084\n",
      "\n",
      "Accuracy\n",
      "Group accuracy:0.752664\t0.738953\t0.781905\t0.906977\t0.767616\n",
      "\n"
     ]
    },
    {
     "data": {
      "application/vnd.jupyter.widget-view+json": {
       "model_id": "07edcf1e228a4b2c92ece2e344abf6ce",
       "version_major": 2,
       "version_minor": 0
      },
      "text/plain": [
       "  0%|          | 0/10 [00:00<?, ?it/s]"
      ]
     },
     "metadata": {},
     "output_type": "display_data"
    },
    {
     "data": {
      "application/vnd.jupyter.widget-view+json": {
       "model_id": "6760b28b36b54b25a26cefac25281ae1",
       "version_major": 2,
       "version_minor": 0
      },
      "text/plain": [
       "  0%|          | 0/10 [00:00<?, ?it/s]"
      ]
     },
     "metadata": {},
     "output_type": "display_data"
    },
    {
     "name": "stderr",
     "output_type": "stream",
     "text": [
      "Using a non-full backward hook when the forward contains multiple autograd Nodes is deprecated and will be removed in future versions. This hook will be missing some grad_input. Please use register_full_backward_hook to get the documented behavior.\n"
     ]
    },
    {
     "name": "stdout",
     "output_type": "stream",
     "text": [
      "Equalized Odds\n",
      "Groups TP rate:0.522\t0.240\t0.210\t0.488\t0.118\n",
      "Groups TN rate:0.227\t0.505\t0.572\t0.349\t0.654\n",
      "\n",
      "Equality of Opportunity\n",
      "Groups TP rate:0.522\t0.240\t0.210\t0.488\t0.118\n",
      "\n",
      "Demographic Parity\n",
      "Group predicted positive rate:0.582\t0.485\t0.476\t0.574\t0.458\n",
      "\n",
      "Predictive Parity\n",
      "Group precision :0.814330\t0.759864\t0.740741\t0.777778\t0.580882\n",
      "\n",
      "Accuracy\n",
      "Group accuracy:0.749068\t0.744959\t0.781905\t0.837209\t0.772114\n",
      "\n"
     ]
    },
    {
     "data": {
      "application/vnd.jupyter.widget-view+json": {
       "model_id": "c1d5fa19bb384df0b49e9903c907365b",
       "version_major": 2,
       "version_minor": 0
      },
      "text/plain": [
       "  0%|          | 0/10 [00:00<?, ?it/s]"
      ]
     },
     "metadata": {},
     "output_type": "display_data"
    },
    {
     "data": {
      "application/vnd.jupyter.widget-view+json": {
       "model_id": "1a1755091acd45339366823b918fe54e",
       "version_major": 2,
       "version_minor": 0
      },
      "text/plain": [
       "  0%|          | 0/10 [00:00<?, ?it/s]"
      ]
     },
     "metadata": {},
     "output_type": "display_data"
    },
    {
     "name": "stderr",
     "output_type": "stream",
     "text": [
      "Using a non-full backward hook when the forward contains multiple autograd Nodes is deprecated and will be removed in future versions. This hook will be missing some grad_input. Please use register_full_backward_hook to get the documented behavior.\n"
     ]
    },
    {
     "data": {
      "text/html": [
       "<div>\n",
       "<style scoped>\n",
       "    .dataframe tbody tr th:only-of-type {\n",
       "        vertical-align: middle;\n",
       "    }\n",
       "\n",
       "    .dataframe tbody tr th {\n",
       "        vertical-align: top;\n",
       "    }\n",
       "\n",
       "    .dataframe thead th {\n",
       "        text-align: right;\n",
       "    }\n",
       "</style>\n",
       "<table border=\"1\" class=\"dataframe\">\n",
       "  <thead>\n",
       "    <tr style=\"text-align: right;\">\n",
       "      <th></th>\n",
       "      <th>Name</th>\n",
       "      <th>Train Accuracy</th>\n",
       "      <th>Test Accuracy</th>\n",
       "      <th>LIME Penalty Value</th>\n",
       "      <th>SHAP Penalty Value</th>\n",
       "      <th>TNR (std)</th>\n",
       "      <th>TPR (std)</th>\n",
       "      <th>Dem. Parity (std)</th>\n",
       "      <th>Pred. Parity (std)</th>\n",
       "      <th>Accuracy (std)</th>\n",
       "    </tr>\n",
       "  </thead>\n",
       "  <tbody>\n",
       "    <tr>\n",
       "      <th>0</th>\n",
       "      <td>SHAP Penalized</td>\n",
       "      <td>0.711078</td>\n",
       "      <td>0.693078</td>\n",
       "      <td>0.306138</td>\n",
       "      <td>0.264091</td>\n",
       "      <td>0.098757</td>\n",
       "      <td>0.127536</td>\n",
       "      <td>0.027646</td>\n",
       "      <td>0.116918</td>\n",
       "      <td>0.037934</td>\n",
       "    </tr>\n",
       "    <tr>\n",
       "      <th>1</th>\n",
       "      <td>Baseline</td>\n",
       "      <td>0.754130</td>\n",
       "      <td>0.743707</td>\n",
       "      <td>2.821069</td>\n",
       "      <td>1.871558</td>\n",
       "      <td>0.162483</td>\n",
       "      <td>0.162309</td>\n",
       "      <td>0.131206</td>\n",
       "      <td>0.128249</td>\n",
       "      <td>0.058529</td>\n",
       "    </tr>\n",
       "    <tr>\n",
       "      <th>2</th>\n",
       "      <td>Masked</td>\n",
       "      <td>0.751484</td>\n",
       "      <td>0.725973</td>\n",
       "      <td>3.458052</td>\n",
       "      <td>0.633116</td>\n",
       "      <td>0.117942</td>\n",
       "      <td>0.129792</td>\n",
       "      <td>0.073861</td>\n",
       "      <td>0.117955</td>\n",
       "      <td>0.060414</td>\n",
       "    </tr>\n",
       "    <tr>\n",
       "      <th>3</th>\n",
       "      <td>LIME Penalized</td>\n",
       "      <td>0.751412</td>\n",
       "      <td>0.731407</td>\n",
       "      <td>0.030645</td>\n",
       "      <td>0.636613</td>\n",
       "      <td>0.154217</td>\n",
       "      <td>0.160282</td>\n",
       "      <td>0.052112</td>\n",
       "      <td>0.080655</td>\n",
       "      <td>0.033106</td>\n",
       "    </tr>\n",
       "  </tbody>\n",
       "</table>\n",
       "</div>"
      ],
      "text/plain": [
       "             Name  Train Accuracy  Test Accuracy  LIME Penalty Value  \\\n",
       "0  SHAP Penalized        0.711078       0.693078            0.306138   \n",
       "1        Baseline        0.754130       0.743707            2.821069   \n",
       "2          Masked        0.751484       0.725973            3.458052   \n",
       "3  LIME Penalized        0.751412       0.731407            0.030645   \n",
       "\n",
       "   SHAP Penalty Value  TNR (std)  TPR (std)  Dem. Parity (std)  \\\n",
       "0            0.264091   0.098757   0.127536           0.027646   \n",
       "1            1.871558   0.162483   0.162309           0.131206   \n",
       "2            0.633116   0.117942   0.129792           0.073861   \n",
       "3            0.636613   0.154217   0.160282           0.052112   \n",
       "\n",
       "   Pred. Parity (std)  Accuracy (std)  \n",
       "0            0.116918        0.037934  \n",
       "1            0.128249        0.058529  \n",
       "2            0.117955        0.060414  \n",
       "3            0.080655        0.033106  "
      ]
     },
     "execution_count": 5,
     "metadata": {},
     "output_type": "execute_result"
    }
   ],
   "source": [
    "paths = glob.glob(str(Path(\"\").absolute() / \"data\" / \"compas_model_snap_*.bin\"))\n",
    "acc_df = pd.DataFrame(\n",
    "    {\n",
    "        \"Name\": [],\n",
    "        \"Train Accuracy\": [],\n",
    "        \"Test Accuracy\": [],\n",
    "        \"LIME Penalty Value\": [],\n",
    "        \"SHAP Penalty Value\": [],\n",
    "        \"TNR (std)\": [],\n",
    "        \"TPR (std)\": [],\n",
    "        \"Dem. Parity (std)\": [],\n",
    "        \"Pred. Parity (std)\": [],\n",
    "        \"Accuracy (std)\": [],\n",
    "    }\n",
    ")\n",
    "\n",
    "gam, sample_std, bg_samples, test_samples = None, None, None, None\n",
    "\n",
    "LIME_test_samples, LIME_bg_samples, LIME_sample_std, LIME_gam = int(1e2), int(1e3), 1e-2, 1e1\n",
    "SHAP_test_samples, SHAP_bg_samples, SHAP_gam = int(1e1), int(1e2), 1e1\n",
    "\n",
    "\n",
    "for path in paths:\n",
    "    (config, hist, model) = torch.load(path)\n",
    "\n",
    "    groups = np.round((Xtr * STD + MU)[:, RACE_IDX]).astype(np.int64)\n",
    "    Yp = model(torch.as_tensor(Xtr, **TOPTS)).cpu().detach().numpy().reshape(-1)\n",
    "    fair_df = pd.DataFrame(\n",
    "        dict({race_label: groups[:, i] for (i, race_label) in enumerate(race_labels)}, prediction=Yp, label=Ytr)\n",
    "    )\n",
    "    res = fairness_metric(fair_df, race_labels)\n",
    "\n",
    "    LIME_penalty_vals = []\n",
    "    for i in tqdm(range(10)):\n",
    "        penalty_val, _ = LIME_penalty(\n",
    "            RACE_IDX,\n",
    "            model,\n",
    "            train_loader.dataset,\n",
    "            STD,\n",
    "            penalty_fn=lambda x: exact_penalty(x, LIME_gam),\n",
    "            test_samples=LIME_test_samples,\n",
    "            bg_samples=LIME_bg_samples,\n",
    "            sample_std=LIME_sample_std,\n",
    "        )\n",
    "        LIME_penalty_vals.append(float(penalty_val))\n",
    "    LIME_penalty_val = np.mean(LIME_penalty_vals)\n",
    "\n",
    "    SHAP_penalty_vals = []\n",
    "    for i in tqdm(range(10)):\n",
    "        penalty_val, _ = SHAP_penalty(\n",
    "            RACE_IDX,\n",
    "            model,\n",
    "            train_loader.dataset,\n",
    "            penalty_fn=lambda x: exact_penalty(x, SHAP_gam),\n",
    "            test_samples=SHAP_test_samples,\n",
    "            bg_samples=SHAP_bg_samples,\n",
    "        )\n",
    "        SHAP_penalty_vals.append(float(penalty_val))\n",
    "    SHAP_penalty_val = np.mean(SHAP_penalty_vals)\n",
    "\n",
    "    acc_df.loc[len(acc_df)] = [\n",
    "        {\"LIME\": \"LIME Penalized\", \"SHAP\": \"SHAP Penalized\", \"\": \"Baseline\", \"masked\": \"Masked\"}[\n",
    "            config.get(\"method\", \"\")\n",
    "        ],\n",
    "        float(hist[\"train_acc\"][-1]),\n",
    "        float(hist[\"test_acc\"][-1]),\n",
    "        float(LIME_penalty_val),\n",
    "        float(SHAP_penalty_val),\n",
    "        float(np.std(res[\"tnr\"])),\n",
    "        float(np.std(res[\"tpr\"])),\n",
    "        float(np.std(res[\"mean\"])),\n",
    "        float(np.std(res[\"prec\"])),\n",
    "        float(np.std(res[\"acc\"])),\n",
    "    ]\n",
    "acc_df"
   ]
  },
  {
   "cell_type": "code",
   "execution_count": 53,
   "metadata": {},
   "outputs": [
    {
     "name": "stdout",
     "output_type": "stream",
     "text": [
      "\\begin{tabular}{llllllllll}\n",
      "\\toprule\n",
      " Name & Train Accuracy & Test Accuracy & LIME Penalty Value & SHAP Penalty Value & TNR (std) & TPR (std) & Dem. Parity (std) & Pred. Parity (std) & Accuracy (std) \\\\\n",
      "\\midrule\n",
      "SHAP Penalized & \\cellcolor[rgb]{1.00, 0.60, 0.60}0.7111 & \\cellcolor[rgb]{1.00, 0.60, 0.60}0.6931 & \\cellcolor[rgb]{0.63, 0.95, 0.60}0.3061 & \\cellcolor[rgb]{0.60, 1.00, 0.60}\\textbf{0.2641} & \\cellcolor[rgb]{0.60, 1.00, 0.60}\\textbf{0.0988} & \\cellcolor[rgb]{0.60, 1.00, 0.60}\\textbf{0.1275} & \\cellcolor[rgb]{0.60, 1.00, 0.60}\\textbf{0.0276} & \\cellcolor[rgb]{0.91, 0.65, 0.60}0.1169 & \\cellcolor[rgb]{0.67, 0.90, 0.60}0.0379 \\\\\n",
      " Baseline & \\cellcolor[rgb]{0.60, 1.00, 0.60}\\textbf{0.7541} & \\cellcolor[rgb]{0.60, 1.00, 0.60}\\textbf{0.7437} & \\cellcolor[rgb]{0.93, 0.64, 0.60}2.8211 & \\cellcolor[rgb]{1.00, 0.60, 0.60}1.8716 & \\cellcolor[rgb]{1.00, 0.60, 0.60}0.1625 & \\cellcolor[rgb]{1.00, 0.60, 0.60}0.1623 & \\cellcolor[rgb]{1.00, 0.60, 0.60}0.1312 & \\cellcolor[rgb]{1.00, 0.60, 0.60}0.1282 & \\cellcolor[rgb]{0.98, 0.61, 0.60}0.0585 \\\\\n",
      " Masked & \\cellcolor[rgb]{0.62, 0.96, 0.60}0.7515 & \\cellcolor[rgb]{0.74, 0.79, 0.60}0.7260 & \\cellcolor[rgb]{1.00, 0.60, 0.60}3.4581 & \\cellcolor[rgb]{0.69, 0.87, 0.60}0.6331 & \\cellcolor[rgb]{0.72, 0.82, 0.60}0.1179 & \\cellcolor[rgb]{0.62, 0.96, 0.60}0.1298 & \\cellcolor[rgb]{0.78, 0.73, 0.60}0.0739 & \\cellcolor[rgb]{0.92, 0.64, 0.60}0.1180 & \\cellcolor[rgb]{1.00, 0.60, 0.60}0.0604 \\\\\n",
      "LIME Penalized & \\cellcolor[rgb]{0.62, 0.96, 0.60}0.7514 & \\cellcolor[rgb]{0.70, 0.85, 0.60}0.7314 & \\cellcolor[rgb]{0.60, 1.00, 0.60}\\textbf{0.0306} & \\cellcolor[rgb]{0.69, 0.86, 0.60}0.6366 & \\cellcolor[rgb]{0.95, 0.62, 0.60}0.1542 & \\cellcolor[rgb]{0.98, 0.61, 0.60}0.1603 & \\cellcolor[rgb]{0.69, 0.86, 0.60}0.0521 & \\cellcolor[rgb]{0.60, 1.00, 0.60}\\textbf{0.0807} & \\cellcolor[rgb]{0.60, 1.00, 0.60}\\textbf{0.0331} \\\\\n",
      "\\bottomrule\n",
      "\\end{tabular}\n",
      "\n"
     ]
    }
   ],
   "source": [
    "def color2hex(col):\n",
    "    ret = \"#\"\n",
    "    for c in col[:3]:\n",
    "        rep = hex(round(255 * c))[2:]\n",
    "        ret += \"00\"[: -len(rep)] + rep\n",
    "    return ret\n",
    "\n",
    "cdict = {\n",
    "    \"red\": (\n",
    "        (0.0, 1.0, 1.0),\n",
    "        (1.0, 0.6, 0.6),\n",
    "    ),\n",
    "    \"blue\": (\n",
    "        (0.0, 0.6, 0.6),\n",
    "        (1.0, 0.6, 0.6),\n",
    "    ),\n",
    "    \"green\": (\n",
    "        (0.0, 0.6, 0.6),\n",
    "        (0.5, 0.7, 0.7),\n",
    "        (1.0, 1.0, 1.0),\n",
    "    ),\n",
    "}\n",
    "import matplotlib.colors as mcolors\n",
    "cmap = mcolors.LinearSegmentedColormap(\"my_colormap\", cdict, 100)\n",
    "\n",
    "print_df = deepcopy(acc_df)\n",
    "for key in print_df.keys():\n",
    "    vals = np.array(print_df[key])\n",
    "    if vals.dtype == np.float64:\n",
    "        if re.match(r\"(Test|Train) Accuracy\", key):\n",
    "            idx = np.argmax(vals)\n",
    "            cmap_ = cmap\n",
    "        else:\n",
    "            idx = np.argmin(vals)\n",
    "            cmap_ = cmap.reversed()\n",
    "    else:\n",
    "        continue\n",
    "    # cols = [f\"\\\\cellcolor{{{color2hex(cmap(val - np.min(vals)))}}}\" for val in vals]\n",
    "    mapped_vals = (vals - np.min(vals)) / (np.max(vals) - np.min(vals))\n",
    "    cols = [f\"\\\\cellcolor[rgb]{{{', '.join('%.2f' % z for z in cmap_(val)[:3])}}}\" for val in mapped_vals]\n",
    "    vals = [col + (f\"{z:.4f}\" if i != idx else f\"\\\\textbf{{{z:.4f}}}\") for (i, (col, z)) in enumerate(zip(cols, vals))]\n",
    "    print_df[key] = vals\n",
    "#print(print_df)\n",
    "print(re.subn(r\"[\\t ]+\", \" \", print_df.to_latex(index=False, escape=False))[0])\n",
    "# print(print_df.to_latex(index=False))"
   ]
  },
  {
   "cell_type": "markdown",
   "metadata": {},
   "source": [
    "--------------------------------------------------------------------------------"
   ]
  },
  {
   "cell_type": "markdown",
   "metadata": {},
   "source": [
    "# Testing differentiating through Shapley Values"
   ]
  },
  {
   "cell_type": "markdown",
   "metadata": {},
   "source": [
    "### SHAP differentiability test "
   ]
  },
  {
   "cell_type": "code",
   "execution_count": 13,
   "metadata": {
    "cell_id": "00007-7ae41274-6190-4adc-9032-8271acd18d87",
    "colab": {},
    "colab_type": "code",
    "deepnote_cell_height": 102.15625,
    "deepnote_cell_type": "code",
    "id": "lI18CwYiQotq"
   },
   "outputs": [],
   "source": [
    "# Create a SHAP explainer by passing a subset of our training data\n",
    "model, loss_fn, optimizer, scheduler, Xs = generate_model()\n",
    "X_background = torch.as_tensor(Xtr[torch.randperm(Xtr.shape[0])[:100], ...], **TOPTS)\n",
    "X_test = torch.as_tensor(Xtr[torch.randperm(Xtr.shape[0])[:10], ...], **TOPTS)\n",
    "explainer = shap.DeepExplainer(model, X_background)"
   ]
  },
  {
   "cell_type": "code",
   "execution_count": 30,
   "metadata": {
    "cell_id": "00007-7ae41274-6190-4adc-9032-8271acd18d87",
    "colab": {},
    "colab_type": "code",
    "deepnote_cell_height": 102.15625,
    "deepnote_cell_type": "code",
    "id": "lI18CwYiQotq"
   },
   "outputs": [
    {
     "name": "stdout",
     "output_type": "stream",
     "text": [
      "tensor(0.0073, device='cuda:0', grad_fn=<DivBackward0>)\n"
     ]
    }
   ],
   "source": [
    "vals1 = explainer.shap_values(X_test)\n",
    "\n",
    "explainer_original = shap_original.DeepExplainer(deepcopy(model), X_background)\n",
    "vals2 = torch.as_tensor(explainer_original.shap_values(X_test), **TOPTS)\n",
    "\n",
    "print(torch.norm(vals1 - vals2) / torch.norm(vals1))"
   ]
  },
  {
   "cell_type": "code",
   "execution_count": 26,
   "metadata": {},
   "outputs": [
    {
     "name": "stderr",
     "output_type": "stream",
     "text": [
      "Using a non-full backward hook when the forward contains multiple autograd Nodes is deprecated and will be removed in future versions. This hook will be missing some grad_input. Please use register_full_backward_hook to get the documented behavior.\n"
     ]
    },
    {
     "name": "stdout",
     "output_type": "stream",
     "text": [
      "tensor([[-3.5033e-06,  7.4467e-08, -3.2063e-07,  ...,  7.6408e-08,\n",
      "          1.4895e-08,  5.8486e-08],\n",
      "        [-9.7314e-04,  4.6529e-08,  1.4900e-07,  ..., -6.3004e-09,\n",
      "         -1.2282e-09,  1.9573e-09],\n",
      "        [ 6.3739e-05,  2.4759e-07, -1.7470e-06,  ...,  2.9007e-07,\n",
      "          5.6548e-08,  2.2286e-07],\n",
      "        ...,\n",
      "        [ 1.4102e-04,  1.7241e-08, -8.3069e-08,  ...,  2.4468e-08,\n",
      "          4.7699e-09,  2.1345e-08],\n",
      "        [-5.7081e-06, -1.2926e-08,  2.7734e-07,  ..., -4.1700e-08,\n",
      "         -8.1292e-09, -3.5948e-08],\n",
      "        [-5.5522e-05,  2.3477e-08, -2.0407e-07,  ...,  3.3517e-08,\n",
      "          6.5339e-09,  2.6414e-08]], device='cuda:0')\n"
     ]
    }
   ],
   "source": [
    "J2 = torch.autograd.grad(explainer.shap_values(X_test).reshape(-1)[0], next(model.parameters()))[0]\n",
    "print(J2)\n",
    "# f = lambda x: explainer.shap_values(x).detach().reshape(-1)[0]\n",
    "# J = finite_diff(f, X_test, 1e-5)\n",
    "# X_test.requires_grad = True"
   ]
  },
  {
   "cell_type": "markdown",
   "metadata": {},
   "source": [
    "### Multi-input test (we probably won't need this)"
   ]
  },
  {
   "cell_type": "code",
   "execution_count": null,
   "metadata": {
    "cell_id": "00007-7ae41274-6190-4adc-9032-8271acd18d87",
    "colab": {},
    "colab_type": "code",
    "deepnote_cell_height": 102.15625,
    "deepnote_cell_type": "code",
    "id": "lI18CwYiQotq"
   },
   "outputs": [],
   "source": [
    "model, loss_fn, optimizer, scheduler, Xs = generate_model()\n",
    "X_background = torch.as_tensor(Xtr[torch.randperm(Xtr.shape[0])[:100], ...], **TOPTS)\n",
    "X_test = torch.as_tensor(Xtr[torch.randperm(Xtr.shape[0])[:10], ...], **TOPTS)\n",
    "Xb1, Xb2 = X_background[..., :3], X_background[..., 3:]\n",
    "Xt1, Xt2 = X_test[..., :3], X_test[..., 3:]\n",
    "\n",
    "explainer = shap.DeepExplainer(deepcopy(model2), [Xb1, Xb2])\n",
    "vals1 = explainer.shap_values([Xt1, Xt2])\n",
    "\n",
    "explainer_original = shap_original.DeepExplainer(deepcopy(model2), [Xb1, Xb2])\n",
    "vals2 = explainer_original.shap_values([Xt1, Xt2])\n",
    "\n",
    "# print(torch.norm(vals1 - vals2) / torch.norm(vals1))"
   ]
  },
  {
   "cell_type": "markdown",
   "metadata": {},
   "source": [
    "--------------------------------------------------------------------------------"
   ]
  }
 ],
 "metadata": {
  "colab": {
   "collapsed_sections": [],
   "name": "WIT COMPAS with SHAP",
   "provenance": []
  },
  "deepnote": {},
  "deepnote_execution_queue": [],
  "deepnote_notebook_id": "f3c3b30d-7a29-47a3-a6e6-89fe2e1d8b52",
  "kernelspec": {
   "display_name": "Python 3",
   "language": "python",
   "name": "python3"
  },
  "language_info": {
   "codemirror_mode": {
    "name": "ipython",
    "version": 3
   },
   "file_extension": ".py",
   "mimetype": "text/x-python",
   "name": "python",
   "nbconvert_exporter": "python",
   "pygments_lexer": "ipython3",
   "version": "3.9.12"
  }
 },
 "nbformat": 4,
 "nbformat_minor": 4
}
