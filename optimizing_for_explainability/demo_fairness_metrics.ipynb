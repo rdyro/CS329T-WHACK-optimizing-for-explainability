{
 "cells": [
  {
   "cell_type": "code",
   "execution_count": 2,
   "metadata": {},
   "outputs": [],
   "source": [
    "from fairness_metrics import *"
   ]
  },
  {
   "cell_type": "code",
   "execution_count": 3,
   "metadata": {},
   "outputs": [
    {
     "name": "stdout",
     "output_type": "stream",
     "text": [
      "Accuracy\n",
      "Group 0 / Group 1 accuracy:\t1.000 \t / \t 0.600\n",
      "Demographic Parity\n",
      "Group 0 / Group 1 predicted positive rate:\t0.600 \t / \t 0.600\n",
      "Predictive Parity\n",
      "Group 0 / Group 1 precision:\t1.000 \t / \t 0.667\n",
      "Equality of Opportunity\n",
      "Group 0 / Group 1 TP rate:\t0.600 \t / \t 0.400\n",
      "\n",
      "Equalized Odds\n",
      "Group 0 / Group 1 TP rate:\t0.600 \t / \t 0.400\n",
      "Group 0 / Group 1 TN rate:\t0.400 \t / \t 0.200\n",
      "\n"
     ]
    }
   ],
   "source": [
    "fairness_metric('example.csv', metric='all')"
   ]
  },
  {
   "cell_type": "code",
   "execution_count": null,
   "metadata": {},
   "outputs": [],
   "source": []
  }
 ],
 "metadata": {
  "interpreter": {
   "hash": "4a11f54e0fc3c05693e955b3ffca66894cb3c9a810a43af66a29c4e83542c3e1"
  },
  "kernelspec": {
   "display_name": "Python 3.8.8 ('base')",
   "language": "python",
   "name": "python3"
  },
  "language_info": {
   "codemirror_mode": {
    "name": "ipython",
    "version": 3
   },
   "file_extension": ".py",
   "mimetype": "text/x-python",
   "name": "python",
   "nbconvert_exporter": "python",
   "pygments_lexer": "ipython3",
   "version": "3.8.8"
  },
  "orig_nbformat": 4
 },
 "nbformat": 4,
 "nbformat_minor": 2
}
