{
 "cells": [
  {
   "cell_type": "markdown",
   "metadata": {
    "cell_id": "36f42242-003e-4e5e-b4e2-66079f7e160a",
    "colab_type": "text",
    "deepnote_cell_height": 554.109375,
    "deepnote_cell_type": "markdown",
    "id": "f1Id_0GukgNv",
    "owner_user_id": "846ba741-58ab-453a-8a6d-2ff917723e19"
   },
   "source": [
    "## What-If Tool and SHAP on COMPAS keras model\n",
    "\n",
    "This notebook shows:\n",
    "- Training of a keras model on the [COMPAS](https://www.kaggle.com/danofer/compass) dataset.\n",
    "- Explanation of inference results using [SHAP](https://github.com/slundberg/shap).\n",
    "- Use of What-If Tool on the trained model, including SHAP values.\n",
    "\n",
    "For ML fairness background on COMPAS see:\n",
    "\n",
    "- https://www.propublica.org/article/machine-bias-risk-assessments-in-criminal-sentencing\n",
    "- https://www.propublica.org/article/how-we-analyzed-the-compas-recidivism-algorithm\n",
    "- http://www.crj.org/assets/2017/07/9_Machine_bias_rejoinder.pdf\n",
    "\n",
    "This notebook trains a model to mimic the behavior of the COMPAS recidivism classifier and uses the SHAP library to provide feature importance for each prediction by the model. We can then analyze our COMPAS proxy model for fairness using the What-If Tool, and explore how important each feature was to each prediction through the SHAP values.\n",
    "\n",
    "The specific binary classification task for this model is to determine if a person belongs in the \"Low\" risk class according to COMPAS (negative class), or the \"Medium\" or \"High\" risk class (positive class). We then analyze it with the What-If Tool for its ability to predict recidivism within two years of arrest.\n",
    "\n",
    "A simpler version of this notebook that doesn't make use of the SHAP explainer can be found [here](https://colab.research.google.com/github/pair-code/what-if-tool/blob/master/WIT_COMPAS.ipynb).\n",
    "\n",
    "Copyright 2019 Google LLC.\n",
    "SPDX-License-Identifier: Apache-2.0"
   ]
  },
  {
   "cell_type": "code",
   "execution_count": 1,
   "metadata": {
    "cell_id": "00001-c249027d-cdaa-4c2b-b065-fb92152a7438",
    "colab": {},
    "colab_type": "code",
    "deepnote_cell_height": 84.15625,
    "deepnote_cell_type": "code",
    "id": "x1HvYDrvor2i"
   },
   "outputs": [],
   "source": [
    "# @title Install What-If Tool Widget and SHAP library\n",
    "!pip install --upgrade --quiet witwidget shap"
   ]
  },
  {
   "cell_type": "code",
   "execution_count": 1,
   "metadata": {
    "cell_id": "00002-f0819b38-c012-4fd9-b1a0-40b32986cb21",
    "colab": {},
    "colab_type": "code",
    "deepnote_cell_height": 318.171875,
    "deepnote_cell_type": "code",
    "id": "wzEwkr3SoyLh"
   },
   "outputs": [
    {
     "name": "stdout",
     "output_type": "stream",
     "text": [
      "WARNING:tensorflow:From /home/rdyro/.pyenv/versions/cs329t/lib/python3.9/site-packages/tensorflow/python/compat/v2_compat.py:107: disable_resource_variables (from tensorflow.python.ops.variable_scope) is deprecated and will be removed in a future version.\n",
      "Instructions for updating:\n",
      "non-resource variables are not supported in the long term\n"
     ]
    }
   ],
   "source": [
    "# @title Read training dataset from CSV {display-mode: \"form\"}\n",
    "import pandas as pd\n",
    "import numpy as np\n",
    "import tensorflow as tf\n",
    "\n",
    "tf.compat.v1.disable_v2_behavior()\n",
    "import witwidget\n",
    "import os\n",
    "import pickle\n",
    "\n",
    "from tensorflow.keras.layers import Dense\n",
    "from tensorflow.keras.models import Sequential\n",
    "\n",
    "from sklearn.utils import shuffle\n",
    "\n",
    "df = pd.read_csv(\"https://storage.googleapis.com/what-if-tool-resources/computefest2019/cox-violent-parsed_filt.csv\")"
   ]
  },
  {
   "cell_type": "code",
   "execution_count": 2,
   "metadata": {
    "cell_id": "00003-dec59f04-df6c-41e3-87f0-8a0194aa4827",
    "colab": {},
    "colab_type": "code",
    "deepnote_cell_height": 498.171875,
    "deepnote_cell_type": "code",
    "id": "DBx6BTumpb1-"
   },
   "outputs": [
    {
     "data": {
      "text/html": [
       "<div>\n",
       "<style scoped>\n",
       "    .dataframe tbody tr th:only-of-type {\n",
       "        vertical-align: middle;\n",
       "    }\n",
       "\n",
       "    .dataframe tbody tr th {\n",
       "        vertical-align: top;\n",
       "    }\n",
       "\n",
       "    .dataframe thead th {\n",
       "        text-align: right;\n",
       "    }\n",
       "</style>\n",
       "<table border=\"1\" class=\"dataframe\">\n",
       "  <thead>\n",
       "    <tr style=\"text-align: right;\">\n",
       "      <th></th>\n",
       "      <th>age</th>\n",
       "      <th>juv_fel_count</th>\n",
       "      <th>juv_misd_count</th>\n",
       "      <th>juv_other_count</th>\n",
       "      <th>priors_count</th>\n",
       "      <th>recidivism_within_2_years</th>\n",
       "      <th>COMPASS_determination</th>\n",
       "      <th>sex_Female</th>\n",
       "      <th>sex_Male</th>\n",
       "      <th>race_African-American</th>\n",
       "      <th>race_Caucasian</th>\n",
       "      <th>race_Hispanic</th>\n",
       "      <th>race_Native American</th>\n",
       "      <th>race_Other</th>\n",
       "    </tr>\n",
       "  </thead>\n",
       "  <tbody>\n",
       "    <tr>\n",
       "      <th>0</th>\n",
       "      <td>69</td>\n",
       "      <td>0</td>\n",
       "      <td>0</td>\n",
       "      <td>0</td>\n",
       "      <td>0</td>\n",
       "      <td>0</td>\n",
       "      <td>0</td>\n",
       "      <td>0</td>\n",
       "      <td>1</td>\n",
       "      <td>0</td>\n",
       "      <td>0</td>\n",
       "      <td>0</td>\n",
       "      <td>0</td>\n",
       "      <td>1</td>\n",
       "    </tr>\n",
       "    <tr>\n",
       "      <th>1</th>\n",
       "      <td>69</td>\n",
       "      <td>0</td>\n",
       "      <td>0</td>\n",
       "      <td>0</td>\n",
       "      <td>0</td>\n",
       "      <td>0</td>\n",
       "      <td>0</td>\n",
       "      <td>0</td>\n",
       "      <td>1</td>\n",
       "      <td>0</td>\n",
       "      <td>0</td>\n",
       "      <td>0</td>\n",
       "      <td>0</td>\n",
       "      <td>1</td>\n",
       "    </tr>\n",
       "    <tr>\n",
       "      <th>3</th>\n",
       "      <td>34</td>\n",
       "      <td>0</td>\n",
       "      <td>0</td>\n",
       "      <td>0</td>\n",
       "      <td>0</td>\n",
       "      <td>1</td>\n",
       "      <td>0</td>\n",
       "      <td>0</td>\n",
       "      <td>1</td>\n",
       "      <td>1</td>\n",
       "      <td>0</td>\n",
       "      <td>0</td>\n",
       "      <td>0</td>\n",
       "      <td>0</td>\n",
       "    </tr>\n",
       "    <tr>\n",
       "      <th>4</th>\n",
       "      <td>24</td>\n",
       "      <td>0</td>\n",
       "      <td>0</td>\n",
       "      <td>1</td>\n",
       "      <td>4</td>\n",
       "      <td>1</td>\n",
       "      <td>0</td>\n",
       "      <td>0</td>\n",
       "      <td>1</td>\n",
       "      <td>1</td>\n",
       "      <td>0</td>\n",
       "      <td>0</td>\n",
       "      <td>0</td>\n",
       "      <td>0</td>\n",
       "    </tr>\n",
       "    <tr>\n",
       "      <th>5</th>\n",
       "      <td>24</td>\n",
       "      <td>0</td>\n",
       "      <td>0</td>\n",
       "      <td>1</td>\n",
       "      <td>4</td>\n",
       "      <td>1</td>\n",
       "      <td>0</td>\n",
       "      <td>0</td>\n",
       "      <td>1</td>\n",
       "      <td>1</td>\n",
       "      <td>0</td>\n",
       "      <td>0</td>\n",
       "      <td>0</td>\n",
       "      <td>0</td>\n",
       "    </tr>\n",
       "  </tbody>\n",
       "</table>\n",
       "</div>"
      ],
      "text/plain": [
       "   age  juv_fel_count  juv_misd_count  juv_other_count  priors_count  \\\n",
       "0   69              0               0                0             0   \n",
       "1   69              0               0                0             0   \n",
       "3   34              0               0                0             0   \n",
       "4   24              0               0                1             4   \n",
       "5   24              0               0                1             4   \n",
       "\n",
       "   recidivism_within_2_years  COMPASS_determination  sex_Female  sex_Male  \\\n",
       "0                          0                      0           0         1   \n",
       "1                          0                      0           0         1   \n",
       "3                          1                      0           0         1   \n",
       "4                          1                      0           0         1   \n",
       "5                          1                      0           0         1   \n",
       "\n",
       "   race_African-American  race_Caucasian  race_Hispanic  race_Native American  \\\n",
       "0                      0               0              0                     0   \n",
       "1                      0               0              0                     0   \n",
       "3                      1               0              0                     0   \n",
       "4                      1               0              0                     0   \n",
       "5                      1               0              0                     0   \n",
       "\n",
       "   race_Other  \n",
       "0           1  \n",
       "1           1  \n",
       "3           0  \n",
       "4           0  \n",
       "5           0  "
      ]
     },
     "execution_count": 2,
     "metadata": {},
     "output_type": "execute_result"
    }
   ],
   "source": [
    "# Preprocess the data\n",
    "\n",
    "# Filter out entries with no indication of recidivism or no compass score\n",
    "df = df[df[\"is_recid\"] != -1]\n",
    "df = df[df[\"decile_score\"] != -1]\n",
    "\n",
    "# Rename recidivism column\n",
    "df[\"recidivism_within_2_years\"] = df[\"is_recid\"]\n",
    "\n",
    "# Make the COMPASS label column numeric (0 and 1), for use in our model\n",
    "df[\"COMPASS_determination\"] = np.where(df[\"score_text\"] == \"Low\", 0, 1)\n",
    "\n",
    "df = pd.get_dummies(df, columns=[\"sex\", \"race\"])\n",
    "\n",
    "# Get list of all columns from the dataset we will use for model input or output.\n",
    "input_features = [\n",
    "    \"sex_Female\",\n",
    "    \"sex_Male\",\n",
    "    \"age\",\n",
    "    \"race_African-American\",\n",
    "    \"race_Caucasian\",\n",
    "    \"race_Hispanic\",\n",
    "    \"race_Native American\",\n",
    "    \"race_Other\",\n",
    "    \"priors_count\",\n",
    "    \"juv_fel_count\",\n",
    "    \"juv_misd_count\",\n",
    "    \"juv_other_count\",\n",
    "]\n",
    "\n",
    "to_keep = input_features + [\"recidivism_within_2_years\", \"COMPASS_determination\"]\n",
    "\n",
    "to_remove = [col for col in df.columns if col not in to_keep]\n",
    "df = df.drop(columns=to_remove)\n",
    "\n",
    "input_columns = df.columns.tolist()\n",
    "labels = df[\"COMPASS_determination\"]\n",
    "df.head()"
   ]
  },
  {
   "cell_type": "code",
   "execution_count": 3,
   "metadata": {
    "cell_id": "00004-de54ccf0-cc72-441f-9628-7a908132a348",
    "colab": {},
    "colab_type": "code",
    "deepnote_cell_height": 246.15625,
    "deepnote_cell_type": "code",
    "id": "U0ZfePT1rTmZ"
   },
   "outputs": [],
   "source": [
    "# Create data structures needing for training and testing.\n",
    "# The training data doesn't contain the column we are predicting,\n",
    "# 'COMPASS_determination', or the column we are using for evaluation of our\n",
    "# trained model, 'recidivism_within_2_years'.\n",
    "df_for_training = df.drop(columns=[\"COMPASS_determination\", \"recidivism_within_2_years\"])\n",
    "train_size = int(len(df_for_training) * 0.8)\n",
    "\n",
    "train_data = df_for_training[:train_size]\n",
    "train_labels = labels[:train_size]\n",
    "\n",
    "test_data_with_labels = df[train_size:]"
   ]
  },
  {
   "cell_type": "code",
   "execution_count": 4,
   "metadata": {
    "cell_id": "00005-62743ad9-fb8b-453d-9b8e-f601cd11e0da",
    "colab": {},
    "colab_type": "code",
    "deepnote_cell_height": 264.15625,
    "deepnote_cell_type": "code",
    "id": "5T2XThgosWX-"
   },
   "outputs": [],
   "source": [
    "# Create the model\n",
    "\n",
    "# This is the size of the array we'll be feeding into our model for each example\n",
    "input_size = len(train_data.iloc[0])\n",
    "\n",
    "model = Sequential()\n",
    "model.add(Dense(200, input_shape=(input_size,), activation=\"relu\"))\n",
    "model.add(Dense(50, activation=\"relu\"))\n",
    "model.add(Dense(25, activation=\"relu\"))\n",
    "model.add(Dense(1, activation=\"sigmoid\"))\n",
    "\n",
    "model.compile(loss=\"mean_squared_error\", optimizer=\"adam\")"
   ]
  },
  {
   "cell_type": "code",
   "execution_count": 5,
   "metadata": {
    "cell_id": "00006-4b17bc0e-509f-452b-bbad-3764055f1bc5",
    "colab": {},
    "colab_type": "code",
    "deepnote_cell_height": 84.15625,
    "deepnote_cell_type": "code",
    "id": "fjgNhSCDsayt"
   },
   "outputs": [],
   "source": [
    "# Train the model\n",
    "model.fit(train_data.values, train_labels.values, epochs=10, batch_size=32, validation_split=0.1)"
   ]
  },
  {
   "cell_type": "code",
   "execution_count": 22,
   "metadata": {
    "cell_id": "00006-4b17bc0e-509f-452b-bbad-3764055f1bc5",
    "colab": {},
    "colab_type": "code",
    "deepnote_cell_height": 84.15625,
    "deepnote_cell_type": "code",
    "id": "fjgNhSCDsayt"
   },
   "outputs": [
    {
     "name": "stdout",
     "output_type": "stream",
     "text": [
      "0.7526997067868125\n"
     ]
    }
   ],
   "source": [
    "model.evaluate(train_data.values, train_labels.values, verbose=True)\n",
    "print(np.mean((model.predict(train_data.values) > 0.5).reshape(-1) == train_labels.values))"
   ]
  },
  {
   "cell_type": "code",
   "execution_count": 15,
   "metadata": {},
   "outputs": [
    {
     "ename": "FailedPreconditionError",
     "evalue": "Graph execution error:\n\nDetected at node 'sequential_7/dense_1/BiasAdd/ReadVariableOp' defined at (most recent call last):\n    File \"/home/rdyro/.pyenv/versions/3.9.12/lib/python3.9/runpy.py\", line 197, in _run_module_as_main\n      return _run_code(code, main_globals, None,\n    File \"/home/rdyro/.pyenv/versions/3.9.12/lib/python3.9/runpy.py\", line 87, in _run_code\n      exec(code, run_globals)\n    File \"/home/rdyro/.pyenv/versions/cs329t/lib/python3.9/site-packages/ipykernel_launcher.py\", line 16, in <module>\n      app.launch_new_instance()\n    File \"/home/rdyro/.pyenv/versions/cs329t/lib/python3.9/site-packages/traitlets/config/application.py\", line 846, in launch_instance\n      app.start()\n    File \"/home/rdyro/.pyenv/versions/cs329t/lib/python3.9/site-packages/ipykernel/kernelapp.py\", line 612, in start\n      self.io_loop.start()\n    File \"/home/rdyro/.pyenv/versions/cs329t/lib/python3.9/site-packages/tornado/platform/asyncio.py\", line 199, in start\n      self.asyncio_loop.run_forever()\n    File \"/home/rdyro/.pyenv/versions/3.9.12/lib/python3.9/asyncio/base_events.py\", line 601, in run_forever\n      self._run_once()\n    File \"/home/rdyro/.pyenv/versions/3.9.12/lib/python3.9/asyncio/base_events.py\", line 1905, in _run_once\n      handle._run()\n    File \"/home/rdyro/.pyenv/versions/3.9.12/lib/python3.9/asyncio/events.py\", line 80, in _run\n      self._context.run(self._callback, *self._args)\n    File \"/home/rdyro/.pyenv/versions/cs329t/lib/python3.9/site-packages/tornado/ioloop.py\", line 688, in <lambda>\n      lambda f: self._run_callback(functools.partial(callback, future))\n    File \"/home/rdyro/.pyenv/versions/cs329t/lib/python3.9/site-packages/tornado/ioloop.py\", line 741, in _run_callback\n      ret = callback()\n    File \"/home/rdyro/.pyenv/versions/cs329t/lib/python3.9/site-packages/tornado/gen.py\", line 814, in inner\n      self.ctx_run(self.run)\n    File \"/home/rdyro/.pyenv/versions/cs329t/lib/python3.9/site-packages/tornado/gen.py\", line 775, in run\n      yielded = self.gen.send(value)\n    File \"/home/rdyro/.pyenv/versions/cs329t/lib/python3.9/site-packages/ipykernel/kernelbase.py\", line 358, in process_one\n      yield gen.maybe_future(dispatch(*args))\n    File \"/home/rdyro/.pyenv/versions/cs329t/lib/python3.9/site-packages/tornado/gen.py\", line 234, in wrapper\n      yielded = ctx_run(next, result)\n    File \"/home/rdyro/.pyenv/versions/cs329t/lib/python3.9/site-packages/ipykernel/kernelbase.py\", line 261, in dispatch_shell\n      yield gen.maybe_future(handler(stream, idents, msg))\n    File \"/home/rdyro/.pyenv/versions/cs329t/lib/python3.9/site-packages/tornado/gen.py\", line 234, in wrapper\n      yielded = ctx_run(next, result)\n    File \"/home/rdyro/.pyenv/versions/cs329t/lib/python3.9/site-packages/ipykernel/kernelbase.py\", line 536, in execute_request\n      self.do_execute(\n    File \"/home/rdyro/.pyenv/versions/cs329t/lib/python3.9/site-packages/tornado/gen.py\", line 234, in wrapper\n      yielded = ctx_run(next, result)\n    File \"/home/rdyro/.pyenv/versions/cs329t/lib/python3.9/site-packages/ipykernel/ipkernel.py\", line 302, in do_execute\n      res = shell.run_cell(code, store_history=store_history, silent=silent)\n    File \"/home/rdyro/.pyenv/versions/cs329t/lib/python3.9/site-packages/ipykernel/zmqshell.py\", line 539, in run_cell\n      return super(ZMQInteractiveShell, self).run_cell(*args, **kwargs)\n    File \"/home/rdyro/.pyenv/versions/cs329t/lib/python3.9/site-packages/IPython/core/interactiveshell.py\", line 2894, in run_cell\n      result = self._run_cell(\n    File \"/home/rdyro/.pyenv/versions/cs329t/lib/python3.9/site-packages/IPython/core/interactiveshell.py\", line 2940, in _run_cell\n      return runner(coro)\n    File \"/home/rdyro/.pyenv/versions/cs329t/lib/python3.9/site-packages/IPython/core/async_helpers.py\", line 68, in _pseudo_sync_runner\n      coro.send(None)\n    File \"/home/rdyro/.pyenv/versions/cs329t/lib/python3.9/site-packages/IPython/core/interactiveshell.py\", line 3165, in run_cell_async\n      has_raised = await self.run_ast_nodes(code_ast.body, cell_name,\n    File \"/home/rdyro/.pyenv/versions/cs329t/lib/python3.9/site-packages/IPython/core/interactiveshell.py\", line 3357, in run_ast_nodes\n      if (await self.run_code(code, result,  async_=asy)):\n    File \"/home/rdyro/.pyenv/versions/cs329t/lib/python3.9/site-packages/IPython/core/interactiveshell.py\", line 3437, in run_code\n      exec(code_obj, self.user_global_ns, self.user_ns)\n    File \"<ipython-input-15-321d43e493e1>\", line 2, in <module>\n      model(train_data.values).eval(session=session)\n    File \"/home/rdyro/.pyenv/versions/cs329t/lib/python3.9/site-packages/keras/engine/base_layer_v1.py\", line 811, in __call__\n      outputs = self.call(cast_inputs, *args, **kwargs)\n    File \"/home/rdyro/.pyenv/versions/cs329t/lib/python3.9/site-packages/keras/engine/sequential.py\", line 374, in call\n      return super(Sequential, self).call(inputs, training=training, mask=mask)\n    File \"/home/rdyro/.pyenv/versions/cs329t/lib/python3.9/site-packages/keras/engine/functional.py\", line 451, in call\n      return self._run_internal_graph(\n    File \"/home/rdyro/.pyenv/versions/cs329t/lib/python3.9/site-packages/keras/engine/functional.py\", line 589, in _run_internal_graph\n      outputs = node.layer(*args, **kwargs)\n    File \"/home/rdyro/.pyenv/versions/cs329t/lib/python3.9/site-packages/keras/engine/base_layer_v1.py\", line 765, in __call__\n      outputs = call_fn(cast_inputs, *args, **kwargs)\n    File \"/home/rdyro/.pyenv/versions/cs329t/lib/python3.9/site-packages/keras/layers/core/dense.py\", line 230, in call\n      outputs = tf.nn.bias_add(outputs, self.bias)\nNode: 'sequential_7/dense_1/BiasAdd/ReadVariableOp'\nDetected at node 'sequential_7/dense_1/BiasAdd/ReadVariableOp' defined at (most recent call last):\n    File \"/home/rdyro/.pyenv/versions/3.9.12/lib/python3.9/runpy.py\", line 197, in _run_module_as_main\n      return _run_code(code, main_globals, None,\n    File \"/home/rdyro/.pyenv/versions/3.9.12/lib/python3.9/runpy.py\", line 87, in _run_code\n      exec(code, run_globals)\n    File \"/home/rdyro/.pyenv/versions/cs329t/lib/python3.9/site-packages/ipykernel_launcher.py\", line 16, in <module>\n      app.launch_new_instance()\n    File \"/home/rdyro/.pyenv/versions/cs329t/lib/python3.9/site-packages/traitlets/config/application.py\", line 846, in launch_instance\n      app.start()\n    File \"/home/rdyro/.pyenv/versions/cs329t/lib/python3.9/site-packages/ipykernel/kernelapp.py\", line 612, in start\n      self.io_loop.start()\n    File \"/home/rdyro/.pyenv/versions/cs329t/lib/python3.9/site-packages/tornado/platform/asyncio.py\", line 199, in start\n      self.asyncio_loop.run_forever()\n    File \"/home/rdyro/.pyenv/versions/3.9.12/lib/python3.9/asyncio/base_events.py\", line 601, in run_forever\n      self._run_once()\n    File \"/home/rdyro/.pyenv/versions/3.9.12/lib/python3.9/asyncio/base_events.py\", line 1905, in _run_once\n      handle._run()\n    File \"/home/rdyro/.pyenv/versions/3.9.12/lib/python3.9/asyncio/events.py\", line 80, in _run\n      self._context.run(self._callback, *self._args)\n    File \"/home/rdyro/.pyenv/versions/cs329t/lib/python3.9/site-packages/tornado/ioloop.py\", line 688, in <lambda>\n      lambda f: self._run_callback(functools.partial(callback, future))\n    File \"/home/rdyro/.pyenv/versions/cs329t/lib/python3.9/site-packages/tornado/ioloop.py\", line 741, in _run_callback\n      ret = callback()\n    File \"/home/rdyro/.pyenv/versions/cs329t/lib/python3.9/site-packages/tornado/gen.py\", line 814, in inner\n      self.ctx_run(self.run)\n    File \"/home/rdyro/.pyenv/versions/cs329t/lib/python3.9/site-packages/tornado/gen.py\", line 775, in run\n      yielded = self.gen.send(value)\n    File \"/home/rdyro/.pyenv/versions/cs329t/lib/python3.9/site-packages/ipykernel/kernelbase.py\", line 358, in process_one\n      yield gen.maybe_future(dispatch(*args))\n    File \"/home/rdyro/.pyenv/versions/cs329t/lib/python3.9/site-packages/tornado/gen.py\", line 234, in wrapper\n      yielded = ctx_run(next, result)\n    File \"/home/rdyro/.pyenv/versions/cs329t/lib/python3.9/site-packages/ipykernel/kernelbase.py\", line 261, in dispatch_shell\n      yield gen.maybe_future(handler(stream, idents, msg))\n    File \"/home/rdyro/.pyenv/versions/cs329t/lib/python3.9/site-packages/tornado/gen.py\", line 234, in wrapper\n      yielded = ctx_run(next, result)\n    File \"/home/rdyro/.pyenv/versions/cs329t/lib/python3.9/site-packages/ipykernel/kernelbase.py\", line 536, in execute_request\n      self.do_execute(\n    File \"/home/rdyro/.pyenv/versions/cs329t/lib/python3.9/site-packages/tornado/gen.py\", line 234, in wrapper\n      yielded = ctx_run(next, result)\n    File \"/home/rdyro/.pyenv/versions/cs329t/lib/python3.9/site-packages/ipykernel/ipkernel.py\", line 302, in do_execute\n      res = shell.run_cell(code, store_history=store_history, silent=silent)\n    File \"/home/rdyro/.pyenv/versions/cs329t/lib/python3.9/site-packages/ipykernel/zmqshell.py\", line 539, in run_cell\n      return super(ZMQInteractiveShell, self).run_cell(*args, **kwargs)\n    File \"/home/rdyro/.pyenv/versions/cs329t/lib/python3.9/site-packages/IPython/core/interactiveshell.py\", line 2894, in run_cell\n      result = self._run_cell(\n    File \"/home/rdyro/.pyenv/versions/cs329t/lib/python3.9/site-packages/IPython/core/interactiveshell.py\", line 2940, in _run_cell\n      return runner(coro)\n    File \"/home/rdyro/.pyenv/versions/cs329t/lib/python3.9/site-packages/IPython/core/async_helpers.py\", line 68, in _pseudo_sync_runner\n      coro.send(None)\n    File \"/home/rdyro/.pyenv/versions/cs329t/lib/python3.9/site-packages/IPython/core/interactiveshell.py\", line 3165, in run_cell_async\n      has_raised = await self.run_ast_nodes(code_ast.body, cell_name,\n    File \"/home/rdyro/.pyenv/versions/cs329t/lib/python3.9/site-packages/IPython/core/interactiveshell.py\", line 3357, in run_ast_nodes\n      if (await self.run_code(code, result,  async_=asy)):\n    File \"/home/rdyro/.pyenv/versions/cs329t/lib/python3.9/site-packages/IPython/core/interactiveshell.py\", line 3437, in run_code\n      exec(code_obj, self.user_global_ns, self.user_ns)\n    File \"<ipython-input-15-321d43e493e1>\", line 2, in <module>\n      model(train_data.values).eval(session=session)\n    File \"/home/rdyro/.pyenv/versions/cs329t/lib/python3.9/site-packages/keras/engine/base_layer_v1.py\", line 811, in __call__\n      outputs = self.call(cast_inputs, *args, **kwargs)\n    File \"/home/rdyro/.pyenv/versions/cs329t/lib/python3.9/site-packages/keras/engine/sequential.py\", line 374, in call\n      return super(Sequential, self).call(inputs, training=training, mask=mask)\n    File \"/home/rdyro/.pyenv/versions/cs329t/lib/python3.9/site-packages/keras/engine/functional.py\", line 451, in call\n      return self._run_internal_graph(\n    File \"/home/rdyro/.pyenv/versions/cs329t/lib/python3.9/site-packages/keras/engine/functional.py\", line 589, in _run_internal_graph\n      outputs = node.layer(*args, **kwargs)\n    File \"/home/rdyro/.pyenv/versions/cs329t/lib/python3.9/site-packages/keras/engine/base_layer_v1.py\", line 765, in __call__\n      outputs = call_fn(cast_inputs, *args, **kwargs)\n    File \"/home/rdyro/.pyenv/versions/cs329t/lib/python3.9/site-packages/keras/layers/core/dense.py\", line 230, in call\n      outputs = tf.nn.bias_add(outputs, self.bias)\nNode: 'sequential_7/dense_1/BiasAdd/ReadVariableOp'\n2 root error(s) found.\n  (0) FAILED_PRECONDITION: Could not find variable dense_1/bias. This could mean that the variable has been deleted. In TF1, it can also mean the variable is uninitialized. Debug info: container=localhost, status error message=Container localhost does not exist. (Could not find resource: localhost/dense_1/bias)\n\t [[{{node sequential_7/dense_1/BiasAdd/ReadVariableOp}}]]\n\t [[sequential_7/dense_3/Sigmoid/_1]]\n  (1) FAILED_PRECONDITION: Could not find variable dense_1/bias. This could mean that the variable has been deleted. In TF1, it can also mean the variable is uninitialized. Debug info: container=localhost, status error message=Container localhost does not exist. (Could not find resource: localhost/dense_1/bias)\n\t [[{{node sequential_7/dense_1/BiasAdd/ReadVariableOp}}]]\n0 successful operations.\n0 derived errors ignored.\n\nOriginal stack trace for 'sequential_7/dense_1/BiasAdd/ReadVariableOp':\n  File \"/home/rdyro/.pyenv/versions/3.9.12/lib/python3.9/runpy.py\", line 197, in _run_module_as_main\n    return _run_code(code, main_globals, None,\n  File \"/home/rdyro/.pyenv/versions/3.9.12/lib/python3.9/runpy.py\", line 87, in _run_code\n    exec(code, run_globals)\n  File \"/home/rdyro/.pyenv/versions/cs329t/lib/python3.9/site-packages/ipykernel_launcher.py\", line 16, in <module>\n    app.launch_new_instance()\n  File \"/home/rdyro/.pyenv/versions/cs329t/lib/python3.9/site-packages/traitlets/config/application.py\", line 846, in launch_instance\n    app.start()\n  File \"/home/rdyro/.pyenv/versions/cs329t/lib/python3.9/site-packages/ipykernel/kernelapp.py\", line 612, in start\n    self.io_loop.start()\n  File \"/home/rdyro/.pyenv/versions/cs329t/lib/python3.9/site-packages/tornado/platform/asyncio.py\", line 199, in start\n    self.asyncio_loop.run_forever()\n  File \"/home/rdyro/.pyenv/versions/3.9.12/lib/python3.9/asyncio/base_events.py\", line 601, in run_forever\n    self._run_once()\n  File \"/home/rdyro/.pyenv/versions/3.9.12/lib/python3.9/asyncio/base_events.py\", line 1905, in _run_once\n    handle._run()\n  File \"/home/rdyro/.pyenv/versions/3.9.12/lib/python3.9/asyncio/events.py\", line 80, in _run\n    self._context.run(self._callback, *self._args)\n  File \"/home/rdyro/.pyenv/versions/cs329t/lib/python3.9/site-packages/tornado/ioloop.py\", line 688, in <lambda>\n    lambda f: self._run_callback(functools.partial(callback, future))\n  File \"/home/rdyro/.pyenv/versions/cs329t/lib/python3.9/site-packages/tornado/ioloop.py\", line 741, in _run_callback\n    ret = callback()\n  File \"/home/rdyro/.pyenv/versions/cs329t/lib/python3.9/site-packages/tornado/gen.py\", line 814, in inner\n    self.ctx_run(self.run)\n  File \"/home/rdyro/.pyenv/versions/cs329t/lib/python3.9/site-packages/tornado/gen.py\", line 775, in run\n    yielded = self.gen.send(value)\n  File \"/home/rdyro/.pyenv/versions/cs329t/lib/python3.9/site-packages/ipykernel/kernelbase.py\", line 358, in process_one\n    yield gen.maybe_future(dispatch(*args))\n  File \"/home/rdyro/.pyenv/versions/cs329t/lib/python3.9/site-packages/tornado/gen.py\", line 234, in wrapper\n    yielded = ctx_run(next, result)\n  File \"/home/rdyro/.pyenv/versions/cs329t/lib/python3.9/site-packages/ipykernel/kernelbase.py\", line 261, in dispatch_shell\n    yield gen.maybe_future(handler(stream, idents, msg))\n  File \"/home/rdyro/.pyenv/versions/cs329t/lib/python3.9/site-packages/tornado/gen.py\", line 234, in wrapper\n    yielded = ctx_run(next, result)\n  File \"/home/rdyro/.pyenv/versions/cs329t/lib/python3.9/site-packages/ipykernel/kernelbase.py\", line 536, in execute_request\n    self.do_execute(\n  File \"/home/rdyro/.pyenv/versions/cs329t/lib/python3.9/site-packages/tornado/gen.py\", line 234, in wrapper\n    yielded = ctx_run(next, result)\n  File \"/home/rdyro/.pyenv/versions/cs329t/lib/python3.9/site-packages/ipykernel/ipkernel.py\", line 302, in do_execute\n    res = shell.run_cell(code, store_history=store_history, silent=silent)\n  File \"/home/rdyro/.pyenv/versions/cs329t/lib/python3.9/site-packages/ipykernel/zmqshell.py\", line 539, in run_cell\n    return super(ZMQInteractiveShell, self).run_cell(*args, **kwargs)\n  File \"/home/rdyro/.pyenv/versions/cs329t/lib/python3.9/site-packages/IPython/core/interactiveshell.py\", line 2894, in run_cell\n    result = self._run_cell(\n  File \"/home/rdyro/.pyenv/versions/cs329t/lib/python3.9/site-packages/IPython/core/interactiveshell.py\", line 2940, in _run_cell\n    return runner(coro)\n  File \"/home/rdyro/.pyenv/versions/cs329t/lib/python3.9/site-packages/IPython/core/async_helpers.py\", line 68, in _pseudo_sync_runner\n    coro.send(None)\n  File \"/home/rdyro/.pyenv/versions/cs329t/lib/python3.9/site-packages/IPython/core/interactiveshell.py\", line 3165, in run_cell_async\n    has_raised = await self.run_ast_nodes(code_ast.body, cell_name,\n  File \"/home/rdyro/.pyenv/versions/cs329t/lib/python3.9/site-packages/IPython/core/interactiveshell.py\", line 3357, in run_ast_nodes\n    if (await self.run_code(code, result,  async_=asy)):\n  File \"/home/rdyro/.pyenv/versions/cs329t/lib/python3.9/site-packages/IPython/core/interactiveshell.py\", line 3437, in run_code\n    exec(code_obj, self.user_global_ns, self.user_ns)\n  File \"<ipython-input-15-321d43e493e1>\", line 2, in <module>\n    model(train_data.values).eval(session=session)\n  File \"/home/rdyro/.pyenv/versions/cs329t/lib/python3.9/site-packages/keras/engine/base_layer_v1.py\", line 811, in __call__\n    outputs = self.call(cast_inputs, *args, **kwargs)\n  File \"/home/rdyro/.pyenv/versions/cs329t/lib/python3.9/site-packages/keras/engine/sequential.py\", line 374, in call\n    return super(Sequential, self).call(inputs, training=training, mask=mask)\n  File \"/home/rdyro/.pyenv/versions/cs329t/lib/python3.9/site-packages/keras/engine/functional.py\", line 451, in call\n    return self._run_internal_graph(\n  File \"/home/rdyro/.pyenv/versions/cs329t/lib/python3.9/site-packages/keras/engine/functional.py\", line 589, in _run_internal_graph\n    outputs = node.layer(*args, **kwargs)\n  File \"/home/rdyro/.pyenv/versions/cs329t/lib/python3.9/site-packages/keras/engine/base_layer_v1.py\", line 765, in __call__\n    outputs = call_fn(cast_inputs, *args, **kwargs)\n  File \"/home/rdyro/.pyenv/versions/cs329t/lib/python3.9/site-packages/keras/layers/core/dense.py\", line 230, in call\n    outputs = tf.nn.bias_add(outputs, self.bias)\n  File \"/home/rdyro/.pyenv/versions/cs329t/lib/python3.9/site-packages/tensorflow/python/util/traceback_utils.py\", line 150, in error_handler\n    return fn(*args, **kwargs)\n  File \"/home/rdyro/.pyenv/versions/cs329t/lib/python3.9/site-packages/tensorflow/python/util/dispatch.py\", line 1082, in op_dispatch_handler\n    return dispatch_target(*args, **kwargs)\n  File \"/home/rdyro/.pyenv/versions/cs329t/lib/python3.9/site-packages/tensorflow/python/ops/nn_ops.py\", line 3521, in bias_add\n    bias = ops.convert_to_tensor(bias, dtype=value.dtype, name=\"bias\")\n  File \"/home/rdyro/.pyenv/versions/cs329t/lib/python3.9/site-packages/tensorflow/python/profiler/trace.py\", line 183, in wrapped\n    return func(*args, **kwargs)\n  File \"/home/rdyro/.pyenv/versions/cs329t/lib/python3.9/site-packages/tensorflow/python/framework/ops.py\", line 1695, in convert_to_tensor\n    ret = conversion_func(value, dtype=dtype, name=name, as_ref=as_ref)\n  File \"/home/rdyro/.pyenv/versions/cs329t/lib/python3.9/site-packages/tensorflow/python/ops/resource_variable_ops.py\", line 2098, in _dense_var_to_tensor\n    return var._dense_var_to_tensor(dtype=dtype, name=name, as_ref=as_ref)  # pylint: disable=protected-access\n  File \"/home/rdyro/.pyenv/versions/cs329t/lib/python3.9/site-packages/tensorflow/python/ops/resource_variable_ops.py\", line 1476, in _dense_var_to_tensor\n    return self.value()\n  File \"/home/rdyro/.pyenv/versions/cs329t/lib/python3.9/site-packages/tensorflow/python/ops/resource_variable_ops.py\", line 619, in value\n    return self._read_variable_op()\n  File \"/home/rdyro/.pyenv/versions/cs329t/lib/python3.9/site-packages/tensorflow/python/ops/resource_variable_ops.py\", line 728, in _read_variable_op\n    result = read_and_set_handle()\n  File \"/home/rdyro/.pyenv/versions/cs329t/lib/python3.9/site-packages/tensorflow/python/ops/resource_variable_ops.py\", line 718, in read_and_set_handle\n    result = gen_resource_variable_ops.read_variable_op(\n  File \"/home/rdyro/.pyenv/versions/cs329t/lib/python3.9/site-packages/tensorflow/python/ops/gen_resource_variable_ops.py\", line 493, in read_variable_op\n    _, _, _op, _outputs = _op_def_library._apply_op_helper(\n  File \"/home/rdyro/.pyenv/versions/cs329t/lib/python3.9/site-packages/tensorflow/python/framework/op_def_library.py\", line 740, in _apply_op_helper\n    op = g._create_op_internal(op_type_name, inputs, dtypes=None,\n  File \"/home/rdyro/.pyenv/versions/cs329t/lib/python3.9/site-packages/tensorflow/python/framework/ops.py\", line 3776, in _create_op_internal\n    ret = Operation(\n  File \"/home/rdyro/.pyenv/versions/cs329t/lib/python3.9/site-packages/tensorflow/python/framework/ops.py\", line 2175, in __init__\n    self._traceback = tf_stack.extract_stack_for_node(self._c_op)\n",
     "output_type": "error",
     "traceback": [
      "\u001b[0;31m---------------------------------------------------------------------------\u001b[0m",
      "\u001b[0;31mFailedPreconditionError\u001b[0m                   Traceback (most recent call last)",
      "\u001b[0;32m~/.pyenv/versions/cs329t/lib/python3.9/site-packages/tensorflow/python/client/session.py\u001b[0m in \u001b[0;36m_do_call\u001b[0;34m(self, fn, *args)\u001b[0m\n\u001b[1;32m   1376\u001b[0m     \u001b[0;32mtry\u001b[0m\u001b[0;34m:\u001b[0m\u001b[0;34m\u001b[0m\u001b[0;34m\u001b[0m\u001b[0m\n\u001b[0;32m-> 1377\u001b[0;31m       \u001b[0;32mreturn\u001b[0m \u001b[0mfn\u001b[0m\u001b[0;34m(\u001b[0m\u001b[0;34m*\u001b[0m\u001b[0margs\u001b[0m\u001b[0;34m)\u001b[0m\u001b[0;34m\u001b[0m\u001b[0;34m\u001b[0m\u001b[0m\n\u001b[0m\u001b[1;32m   1378\u001b[0m     \u001b[0;32mexcept\u001b[0m \u001b[0merrors\u001b[0m\u001b[0;34m.\u001b[0m\u001b[0mOpError\u001b[0m \u001b[0;32mas\u001b[0m \u001b[0me\u001b[0m\u001b[0;34m:\u001b[0m\u001b[0;34m\u001b[0m\u001b[0;34m\u001b[0m\u001b[0m\n",
      "\u001b[0;32m~/.pyenv/versions/cs329t/lib/python3.9/site-packages/tensorflow/python/client/session.py\u001b[0m in \u001b[0;36m_run_fn\u001b[0;34m(feed_dict, fetch_list, target_list, options, run_metadata)\u001b[0m\n\u001b[1;32m   1359\u001b[0m       \u001b[0mself\u001b[0m\u001b[0;34m.\u001b[0m\u001b[0m_extend_graph\u001b[0m\u001b[0;34m(\u001b[0m\u001b[0;34m)\u001b[0m\u001b[0;34m\u001b[0m\u001b[0;34m\u001b[0m\u001b[0m\n\u001b[0;32m-> 1360\u001b[0;31m       return self._call_tf_sessionrun(options, feed_dict, fetch_list,\n\u001b[0m\u001b[1;32m   1361\u001b[0m                                       target_list, run_metadata)\n",
      "\u001b[0;32m~/.pyenv/versions/cs329t/lib/python3.9/site-packages/tensorflow/python/client/session.py\u001b[0m in \u001b[0;36m_call_tf_sessionrun\u001b[0;34m(self, options, feed_dict, fetch_list, target_list, run_metadata)\u001b[0m\n\u001b[1;32m   1452\u001b[0m                           run_metadata):\n\u001b[0;32m-> 1453\u001b[0;31m     return tf_session.TF_SessionRun_wrapper(self._session, options, feed_dict,\n\u001b[0m\u001b[1;32m   1454\u001b[0m                                             \u001b[0mfetch_list\u001b[0m\u001b[0;34m,\u001b[0m \u001b[0mtarget_list\u001b[0m\u001b[0;34m,\u001b[0m\u001b[0;34m\u001b[0m\u001b[0;34m\u001b[0m\u001b[0m\n",
      "\u001b[0;31mFailedPreconditionError\u001b[0m: 2 root error(s) found.\n  (0) FAILED_PRECONDITION: Could not find variable dense_1/bias. This could mean that the variable has been deleted. In TF1, it can also mean the variable is uninitialized. Debug info: container=localhost, status error message=Container localhost does not exist. (Could not find resource: localhost/dense_1/bias)\n\t [[{{node sequential_7/dense_1/BiasAdd/ReadVariableOp}}]]\n\t [[sequential_7/dense_3/Sigmoid/_1]]\n  (1) FAILED_PRECONDITION: Could not find variable dense_1/bias. This could mean that the variable has been deleted. In TF1, it can also mean the variable is uninitialized. Debug info: container=localhost, status error message=Container localhost does not exist. (Could not find resource: localhost/dense_1/bias)\n\t [[{{node sequential_7/dense_1/BiasAdd/ReadVariableOp}}]]\n0 successful operations.\n0 derived errors ignored.",
      "\nDuring handling of the above exception, another exception occurred:\n",
      "\u001b[0;31mFailedPreconditionError\u001b[0m                   Traceback (most recent call last)",
      "\u001b[0;32m<ipython-input-15-321d43e493e1>\u001b[0m in \u001b[0;36m<module>\u001b[0;34m\u001b[0m\n\u001b[1;32m      1\u001b[0m \u001b[0msession\u001b[0m \u001b[0;34m=\u001b[0m \u001b[0mtf\u001b[0m\u001b[0;34m.\u001b[0m\u001b[0mcompat\u001b[0m\u001b[0;34m.\u001b[0m\u001b[0mv1\u001b[0m\u001b[0;34m.\u001b[0m\u001b[0mSession\u001b[0m\u001b[0;34m(\u001b[0m\u001b[0;34m)\u001b[0m\u001b[0;34m\u001b[0m\u001b[0;34m\u001b[0m\u001b[0m\n\u001b[0;32m----> 2\u001b[0;31m \u001b[0mmodel\u001b[0m\u001b[0;34m(\u001b[0m\u001b[0mtrain_data\u001b[0m\u001b[0;34m.\u001b[0m\u001b[0mvalues\u001b[0m\u001b[0;34m)\u001b[0m\u001b[0;34m.\u001b[0m\u001b[0meval\u001b[0m\u001b[0;34m(\u001b[0m\u001b[0msession\u001b[0m\u001b[0;34m=\u001b[0m\u001b[0msession\u001b[0m\u001b[0;34m)\u001b[0m\u001b[0;34m\u001b[0m\u001b[0;34m\u001b[0m\u001b[0m\n\u001b[0m\u001b[1;32m      3\u001b[0m \u001b[0mtf\u001b[0m\u001b[0;34m.\u001b[0m\u001b[0mreduce_mean\u001b[0m\u001b[0;34m(\u001b[0m\u001b[0;34m(\u001b[0m\u001b[0;34m(\u001b[0m\u001b[0mmodel\u001b[0m\u001b[0;34m(\u001b[0m\u001b[0mtrain_data\u001b[0m\u001b[0;34m.\u001b[0m\u001b[0mvalues\u001b[0m\u001b[0;34m)\u001b[0m \u001b[0;34m>\u001b[0m \u001b[0;36m0.5\u001b[0m\u001b[0;34m)\u001b[0m \u001b[0;34m==\u001b[0m \u001b[0mtrain_labels\u001b[0m\u001b[0;34m.\u001b[0m\u001b[0mvalues\u001b[0m\u001b[0;34m)\u001b[0m \u001b[0;34m*\u001b[0m \u001b[0;36m1.0\u001b[0m\u001b[0;34m)\u001b[0m\u001b[0;34m.\u001b[0m\u001b[0meval\u001b[0m\u001b[0;34m(\u001b[0m\u001b[0msession\u001b[0m\u001b[0;34m=\u001b[0m\u001b[0msession\u001b[0m\u001b[0;34m)\u001b[0m\u001b[0;34m\u001b[0m\u001b[0;34m\u001b[0m\u001b[0m\n",
      "\u001b[0;32m~/.pyenv/versions/cs329t/lib/python3.9/site-packages/tensorflow/python/framework/ops.py\u001b[0m in \u001b[0;36meval\u001b[0;34m(self, feed_dict, session)\u001b[0m\n\u001b[1;32m   1058\u001b[0m       \u001b[0mA\u001b[0m \u001b[0mnumpy\u001b[0m \u001b[0marray\u001b[0m \u001b[0mcorresponding\u001b[0m \u001b[0mto\u001b[0m \u001b[0mthe\u001b[0m \u001b[0mvalue\u001b[0m \u001b[0mof\u001b[0m \u001b[0mthis\u001b[0m \u001b[0mtensor\u001b[0m\u001b[0;34m.\u001b[0m\u001b[0;34m\u001b[0m\u001b[0;34m\u001b[0m\u001b[0m\n\u001b[1;32m   1059\u001b[0m     \"\"\"\n\u001b[0;32m-> 1060\u001b[0;31m     \u001b[0;32mreturn\u001b[0m \u001b[0m_eval_using_default_session\u001b[0m\u001b[0;34m(\u001b[0m\u001b[0mself\u001b[0m\u001b[0;34m,\u001b[0m \u001b[0mfeed_dict\u001b[0m\u001b[0;34m,\u001b[0m \u001b[0mself\u001b[0m\u001b[0;34m.\u001b[0m\u001b[0mgraph\u001b[0m\u001b[0;34m,\u001b[0m \u001b[0msession\u001b[0m\u001b[0;34m)\u001b[0m\u001b[0;34m\u001b[0m\u001b[0;34m\u001b[0m\u001b[0m\n\u001b[0m\u001b[1;32m   1061\u001b[0m \u001b[0;34m\u001b[0m\u001b[0m\n\u001b[1;32m   1062\u001b[0m   \u001b[0;34m@\u001b[0m\u001b[0mdeprecation\u001b[0m\u001b[0;34m.\u001b[0m\u001b[0mdeprecated\u001b[0m\u001b[0;34m(\u001b[0m\u001b[0;32mNone\u001b[0m\u001b[0;34m,\u001b[0m \u001b[0;34m\"Use ref() instead.\"\u001b[0m\u001b[0;34m)\u001b[0m\u001b[0;34m\u001b[0m\u001b[0;34m\u001b[0m\u001b[0m\n",
      "\u001b[0;32m~/.pyenv/versions/cs329t/lib/python3.9/site-packages/tensorflow/python/framework/ops.py\u001b[0m in \u001b[0;36m_eval_using_default_session\u001b[0;34m(tensors, feed_dict, graph, session)\u001b[0m\n\u001b[1;32m   5767\u001b[0m                        \u001b[0;34m\"the tensor's graph is different from the session's \"\u001b[0m\u001b[0;34m\u001b[0m\u001b[0;34m\u001b[0m\u001b[0m\n\u001b[1;32m   5768\u001b[0m                        \"graph.\")\n\u001b[0;32m-> 5769\u001b[0;31m   \u001b[0;32mreturn\u001b[0m \u001b[0msession\u001b[0m\u001b[0;34m.\u001b[0m\u001b[0mrun\u001b[0m\u001b[0;34m(\u001b[0m\u001b[0mtensors\u001b[0m\u001b[0;34m,\u001b[0m \u001b[0mfeed_dict\u001b[0m\u001b[0;34m)\u001b[0m\u001b[0;34m\u001b[0m\u001b[0;34m\u001b[0m\u001b[0m\n\u001b[0m\u001b[1;32m   5770\u001b[0m \u001b[0;34m\u001b[0m\u001b[0m\n\u001b[1;32m   5771\u001b[0m \u001b[0;34m\u001b[0m\u001b[0m\n",
      "\u001b[0;32m~/.pyenv/versions/cs329t/lib/python3.9/site-packages/tensorflow/python/client/session.py\u001b[0m in \u001b[0;36mrun\u001b[0;34m(self, fetches, feed_dict, options, run_metadata)\u001b[0m\n\u001b[1;32m    965\u001b[0m \u001b[0;34m\u001b[0m\u001b[0m\n\u001b[1;32m    966\u001b[0m     \u001b[0;32mtry\u001b[0m\u001b[0;34m:\u001b[0m\u001b[0;34m\u001b[0m\u001b[0;34m\u001b[0m\u001b[0m\n\u001b[0;32m--> 967\u001b[0;31m       result = self._run(None, fetches, feed_dict, options_ptr,\n\u001b[0m\u001b[1;32m    968\u001b[0m                          run_metadata_ptr)\n\u001b[1;32m    969\u001b[0m       \u001b[0;32mif\u001b[0m \u001b[0mrun_metadata\u001b[0m\u001b[0;34m:\u001b[0m\u001b[0;34m\u001b[0m\u001b[0;34m\u001b[0m\u001b[0m\n",
      "\u001b[0;32m~/.pyenv/versions/cs329t/lib/python3.9/site-packages/tensorflow/python/client/session.py\u001b[0m in \u001b[0;36m_run\u001b[0;34m(self, handle, fetches, feed_dict, options, run_metadata)\u001b[0m\n\u001b[1;32m   1188\u001b[0m     \u001b[0;31m# or if the call is a partial run that specifies feeds.\u001b[0m\u001b[0;34m\u001b[0m\u001b[0;34m\u001b[0m\u001b[0m\n\u001b[1;32m   1189\u001b[0m     \u001b[0;32mif\u001b[0m \u001b[0mfinal_fetches\u001b[0m \u001b[0;32mor\u001b[0m \u001b[0mfinal_targets\u001b[0m \u001b[0;32mor\u001b[0m \u001b[0;34m(\u001b[0m\u001b[0mhandle\u001b[0m \u001b[0;32mand\u001b[0m \u001b[0mfeed_dict_tensor\u001b[0m\u001b[0;34m)\u001b[0m\u001b[0;34m:\u001b[0m\u001b[0;34m\u001b[0m\u001b[0;34m\u001b[0m\u001b[0m\n\u001b[0;32m-> 1190\u001b[0;31m       results = self._do_run(handle, final_targets, final_fetches,\n\u001b[0m\u001b[1;32m   1191\u001b[0m                              feed_dict_tensor, options, run_metadata)\n\u001b[1;32m   1192\u001b[0m     \u001b[0;32melse\u001b[0m\u001b[0;34m:\u001b[0m\u001b[0;34m\u001b[0m\u001b[0;34m\u001b[0m\u001b[0m\n",
      "\u001b[0;32m~/.pyenv/versions/cs329t/lib/python3.9/site-packages/tensorflow/python/client/session.py\u001b[0m in \u001b[0;36m_do_run\u001b[0;34m(self, handle, target_list, fetch_list, feed_dict, options, run_metadata)\u001b[0m\n\u001b[1;32m   1368\u001b[0m \u001b[0;34m\u001b[0m\u001b[0m\n\u001b[1;32m   1369\u001b[0m     \u001b[0;32mif\u001b[0m \u001b[0mhandle\u001b[0m \u001b[0;32mis\u001b[0m \u001b[0;32mNone\u001b[0m\u001b[0;34m:\u001b[0m\u001b[0;34m\u001b[0m\u001b[0;34m\u001b[0m\u001b[0m\n\u001b[0;32m-> 1370\u001b[0;31m       return self._do_call(_run_fn, feeds, fetches, targets, options,\n\u001b[0m\u001b[1;32m   1371\u001b[0m                            run_metadata)\n\u001b[1;32m   1372\u001b[0m     \u001b[0;32melse\u001b[0m\u001b[0;34m:\u001b[0m\u001b[0;34m\u001b[0m\u001b[0;34m\u001b[0m\u001b[0m\n",
      "\u001b[0;32m~/.pyenv/versions/cs329t/lib/python3.9/site-packages/tensorflow/python/client/session.py\u001b[0m in \u001b[0;36m_do_call\u001b[0;34m(self, fn, *args)\u001b[0m\n\u001b[1;32m   1394\u001b[0m                     \u001b[0;34m'\\nsession_config.graph_options.rewrite_options.'\u001b[0m\u001b[0;34m\u001b[0m\u001b[0;34m\u001b[0m\u001b[0m\n\u001b[1;32m   1395\u001b[0m                     'disable_meta_optimizer = True')\n\u001b[0;32m-> 1396\u001b[0;31m       \u001b[0;32mraise\u001b[0m \u001b[0mtype\u001b[0m\u001b[0;34m(\u001b[0m\u001b[0me\u001b[0m\u001b[0;34m)\u001b[0m\u001b[0;34m(\u001b[0m\u001b[0mnode_def\u001b[0m\u001b[0;34m,\u001b[0m \u001b[0mop\u001b[0m\u001b[0;34m,\u001b[0m \u001b[0mmessage\u001b[0m\u001b[0;34m)\u001b[0m  \u001b[0;31m# pylint: disable=no-value-for-parameter\u001b[0m\u001b[0;34m\u001b[0m\u001b[0;34m\u001b[0m\u001b[0m\n\u001b[0m\u001b[1;32m   1397\u001b[0m \u001b[0;34m\u001b[0m\u001b[0m\n\u001b[1;32m   1398\u001b[0m   \u001b[0;32mdef\u001b[0m \u001b[0m_extend_graph\u001b[0m\u001b[0;34m(\u001b[0m\u001b[0mself\u001b[0m\u001b[0;34m)\u001b[0m\u001b[0;34m:\u001b[0m\u001b[0;34m\u001b[0m\u001b[0;34m\u001b[0m\u001b[0m\n",
      "\u001b[0;31mFailedPreconditionError\u001b[0m: Graph execution error:\n\nDetected at node 'sequential_7/dense_1/BiasAdd/ReadVariableOp' defined at (most recent call last):\n    File \"/home/rdyro/.pyenv/versions/3.9.12/lib/python3.9/runpy.py\", line 197, in _run_module_as_main\n      return _run_code(code, main_globals, None,\n    File \"/home/rdyro/.pyenv/versions/3.9.12/lib/python3.9/runpy.py\", line 87, in _run_code\n      exec(code, run_globals)\n    File \"/home/rdyro/.pyenv/versions/cs329t/lib/python3.9/site-packages/ipykernel_launcher.py\", line 16, in <module>\n      app.launch_new_instance()\n    File \"/home/rdyro/.pyenv/versions/cs329t/lib/python3.9/site-packages/traitlets/config/application.py\", line 846, in launch_instance\n      app.start()\n    File \"/home/rdyro/.pyenv/versions/cs329t/lib/python3.9/site-packages/ipykernel/kernelapp.py\", line 612, in start\n      self.io_loop.start()\n    File \"/home/rdyro/.pyenv/versions/cs329t/lib/python3.9/site-packages/tornado/platform/asyncio.py\", line 199, in start\n      self.asyncio_loop.run_forever()\n    File \"/home/rdyro/.pyenv/versions/3.9.12/lib/python3.9/asyncio/base_events.py\", line 601, in run_forever\n      self._run_once()\n    File \"/home/rdyro/.pyenv/versions/3.9.12/lib/python3.9/asyncio/base_events.py\", line 1905, in _run_once\n      handle._run()\n    File \"/home/rdyro/.pyenv/versions/3.9.12/lib/python3.9/asyncio/events.py\", line 80, in _run\n      self._context.run(self._callback, *self._args)\n    File \"/home/rdyro/.pyenv/versions/cs329t/lib/python3.9/site-packages/tornado/ioloop.py\", line 688, in <lambda>\n      lambda f: self._run_callback(functools.partial(callback, future))\n    File \"/home/rdyro/.pyenv/versions/cs329t/lib/python3.9/site-packages/tornado/ioloop.py\", line 741, in _run_callback\n      ret = callback()\n    File \"/home/rdyro/.pyenv/versions/cs329t/lib/python3.9/site-packages/tornado/gen.py\", line 814, in inner\n      self.ctx_run(self.run)\n    File \"/home/rdyro/.pyenv/versions/cs329t/lib/python3.9/site-packages/tornado/gen.py\", line 775, in run\n      yielded = self.gen.send(value)\n    File \"/home/rdyro/.pyenv/versions/cs329t/lib/python3.9/site-packages/ipykernel/kernelbase.py\", line 358, in process_one\n      yield gen.maybe_future(dispatch(*args))\n    File \"/home/rdyro/.pyenv/versions/cs329t/lib/python3.9/site-packages/tornado/gen.py\", line 234, in wrapper\n      yielded = ctx_run(next, result)\n    File \"/home/rdyro/.pyenv/versions/cs329t/lib/python3.9/site-packages/ipykernel/kernelbase.py\", line 261, in dispatch_shell\n      yield gen.maybe_future(handler(stream, idents, msg))\n    File \"/home/rdyro/.pyenv/versions/cs329t/lib/python3.9/site-packages/tornado/gen.py\", line 234, in wrapper\n      yielded = ctx_run(next, result)\n    File \"/home/rdyro/.pyenv/versions/cs329t/lib/python3.9/site-packages/ipykernel/kernelbase.py\", line 536, in execute_request\n      self.do_execute(\n    File \"/home/rdyro/.pyenv/versions/cs329t/lib/python3.9/site-packages/tornado/gen.py\", line 234, in wrapper\n      yielded = ctx_run(next, result)\n    File \"/home/rdyro/.pyenv/versions/cs329t/lib/python3.9/site-packages/ipykernel/ipkernel.py\", line 302, in do_execute\n      res = shell.run_cell(code, store_history=store_history, silent=silent)\n    File \"/home/rdyro/.pyenv/versions/cs329t/lib/python3.9/site-packages/ipykernel/zmqshell.py\", line 539, in run_cell\n      return super(ZMQInteractiveShell, self).run_cell(*args, **kwargs)\n    File \"/home/rdyro/.pyenv/versions/cs329t/lib/python3.9/site-packages/IPython/core/interactiveshell.py\", line 2894, in run_cell\n      result = self._run_cell(\n    File \"/home/rdyro/.pyenv/versions/cs329t/lib/python3.9/site-packages/IPython/core/interactiveshell.py\", line 2940, in _run_cell\n      return runner(coro)\n    File \"/home/rdyro/.pyenv/versions/cs329t/lib/python3.9/site-packages/IPython/core/async_helpers.py\", line 68, in _pseudo_sync_runner\n      coro.send(None)\n    File \"/home/rdyro/.pyenv/versions/cs329t/lib/python3.9/site-packages/IPython/core/interactiveshell.py\", line 3165, in run_cell_async\n      has_raised = await self.run_ast_nodes(code_ast.body, cell_name,\n    File \"/home/rdyro/.pyenv/versions/cs329t/lib/python3.9/site-packages/IPython/core/interactiveshell.py\", line 3357, in run_ast_nodes\n      if (await self.run_code(code, result,  async_=asy)):\n    File \"/home/rdyro/.pyenv/versions/cs329t/lib/python3.9/site-packages/IPython/core/interactiveshell.py\", line 3437, in run_code\n      exec(code_obj, self.user_global_ns, self.user_ns)\n    File \"<ipython-input-15-321d43e493e1>\", line 2, in <module>\n      model(train_data.values).eval(session=session)\n    File \"/home/rdyro/.pyenv/versions/cs329t/lib/python3.9/site-packages/keras/engine/base_layer_v1.py\", line 811, in __call__\n      outputs = self.call(cast_inputs, *args, **kwargs)\n    File \"/home/rdyro/.pyenv/versions/cs329t/lib/python3.9/site-packages/keras/engine/sequential.py\", line 374, in call\n      return super(Sequential, self).call(inputs, training=training, mask=mask)\n    File \"/home/rdyro/.pyenv/versions/cs329t/lib/python3.9/site-packages/keras/engine/functional.py\", line 451, in call\n      return self._run_internal_graph(\n    File \"/home/rdyro/.pyenv/versions/cs329t/lib/python3.9/site-packages/keras/engine/functional.py\", line 589, in _run_internal_graph\n      outputs = node.layer(*args, **kwargs)\n    File \"/home/rdyro/.pyenv/versions/cs329t/lib/python3.9/site-packages/keras/engine/base_layer_v1.py\", line 765, in __call__\n      outputs = call_fn(cast_inputs, *args, **kwargs)\n    File \"/home/rdyro/.pyenv/versions/cs329t/lib/python3.9/site-packages/keras/layers/core/dense.py\", line 230, in call\n      outputs = tf.nn.bias_add(outputs, self.bias)\nNode: 'sequential_7/dense_1/BiasAdd/ReadVariableOp'\nDetected at node 'sequential_7/dense_1/BiasAdd/ReadVariableOp' defined at (most recent call last):\n    File \"/home/rdyro/.pyenv/versions/3.9.12/lib/python3.9/runpy.py\", line 197, in _run_module_as_main\n      return _run_code(code, main_globals, None,\n    File \"/home/rdyro/.pyenv/versions/3.9.12/lib/python3.9/runpy.py\", line 87, in _run_code\n      exec(code, run_globals)\n    File \"/home/rdyro/.pyenv/versions/cs329t/lib/python3.9/site-packages/ipykernel_launcher.py\", line 16, in <module>\n      app.launch_new_instance()\n    File \"/home/rdyro/.pyenv/versions/cs329t/lib/python3.9/site-packages/traitlets/config/application.py\", line 846, in launch_instance\n      app.start()\n    File \"/home/rdyro/.pyenv/versions/cs329t/lib/python3.9/site-packages/ipykernel/kernelapp.py\", line 612, in start\n      self.io_loop.start()\n    File \"/home/rdyro/.pyenv/versions/cs329t/lib/python3.9/site-packages/tornado/platform/asyncio.py\", line 199, in start\n      self.asyncio_loop.run_forever()\n    File \"/home/rdyro/.pyenv/versions/3.9.12/lib/python3.9/asyncio/base_events.py\", line 601, in run_forever\n      self._run_once()\n    File \"/home/rdyro/.pyenv/versions/3.9.12/lib/python3.9/asyncio/base_events.py\", line 1905, in _run_once\n      handle._run()\n    File \"/home/rdyro/.pyenv/versions/3.9.12/lib/python3.9/asyncio/events.py\", line 80, in _run\n      self._context.run(self._callback, *self._args)\n    File \"/home/rdyro/.pyenv/versions/cs329t/lib/python3.9/site-packages/tornado/ioloop.py\", line 688, in <lambda>\n      lambda f: self._run_callback(functools.partial(callback, future))\n    File \"/home/rdyro/.pyenv/versions/cs329t/lib/python3.9/site-packages/tornado/ioloop.py\", line 741, in _run_callback\n      ret = callback()\n    File \"/home/rdyro/.pyenv/versions/cs329t/lib/python3.9/site-packages/tornado/gen.py\", line 814, in inner\n      self.ctx_run(self.run)\n    File \"/home/rdyro/.pyenv/versions/cs329t/lib/python3.9/site-packages/tornado/gen.py\", line 775, in run\n      yielded = self.gen.send(value)\n    File \"/home/rdyro/.pyenv/versions/cs329t/lib/python3.9/site-packages/ipykernel/kernelbase.py\", line 358, in process_one\n      yield gen.maybe_future(dispatch(*args))\n    File \"/home/rdyro/.pyenv/versions/cs329t/lib/python3.9/site-packages/tornado/gen.py\", line 234, in wrapper\n      yielded = ctx_run(next, result)\n    File \"/home/rdyro/.pyenv/versions/cs329t/lib/python3.9/site-packages/ipykernel/kernelbase.py\", line 261, in dispatch_shell\n      yield gen.maybe_future(handler(stream, idents, msg))\n    File \"/home/rdyro/.pyenv/versions/cs329t/lib/python3.9/site-packages/tornado/gen.py\", line 234, in wrapper\n      yielded = ctx_run(next, result)\n    File \"/home/rdyro/.pyenv/versions/cs329t/lib/python3.9/site-packages/ipykernel/kernelbase.py\", line 536, in execute_request\n      self.do_execute(\n    File \"/home/rdyro/.pyenv/versions/cs329t/lib/python3.9/site-packages/tornado/gen.py\", line 234, in wrapper\n      yielded = ctx_run(next, result)\n    File \"/home/rdyro/.pyenv/versions/cs329t/lib/python3.9/site-packages/ipykernel/ipkernel.py\", line 302, in do_execute\n      res = shell.run_cell(code, store_history=store_history, silent=silent)\n    File \"/home/rdyro/.pyenv/versions/cs329t/lib/python3.9/site-packages/ipykernel/zmqshell.py\", line 539, in run_cell\n      return super(ZMQInteractiveShell, self).run_cell(*args, **kwargs)\n    File \"/home/rdyro/.pyenv/versions/cs329t/lib/python3.9/site-packages/IPython/core/interactiveshell.py\", line 2894, in run_cell\n      result = self._run_cell(\n    File \"/home/rdyro/.pyenv/versions/cs329t/lib/python3.9/site-packages/IPython/core/interactiveshell.py\", line 2940, in _run_cell\n      return runner(coro)\n    File \"/home/rdyro/.pyenv/versions/cs329t/lib/python3.9/site-packages/IPython/core/async_helpers.py\", line 68, in _pseudo_sync_runner\n      coro.send(None)\n    File \"/home/rdyro/.pyenv/versions/cs329t/lib/python3.9/site-packages/IPython/core/interactiveshell.py\", line 3165, in run_cell_async\n      has_raised = await self.run_ast_nodes(code_ast.body, cell_name,\n    File \"/home/rdyro/.pyenv/versions/cs329t/lib/python3.9/site-packages/IPython/core/interactiveshell.py\", line 3357, in run_ast_nodes\n      if (await self.run_code(code, result,  async_=asy)):\n    File \"/home/rdyro/.pyenv/versions/cs329t/lib/python3.9/site-packages/IPython/core/interactiveshell.py\", line 3437, in run_code\n      exec(code_obj, self.user_global_ns, self.user_ns)\n    File \"<ipython-input-15-321d43e493e1>\", line 2, in <module>\n      model(train_data.values).eval(session=session)\n    File \"/home/rdyro/.pyenv/versions/cs329t/lib/python3.9/site-packages/keras/engine/base_layer_v1.py\", line 811, in __call__\n      outputs = self.call(cast_inputs, *args, **kwargs)\n    File \"/home/rdyro/.pyenv/versions/cs329t/lib/python3.9/site-packages/keras/engine/sequential.py\", line 374, in call\n      return super(Sequential, self).call(inputs, training=training, mask=mask)\n    File \"/home/rdyro/.pyenv/versions/cs329t/lib/python3.9/site-packages/keras/engine/functional.py\", line 451, in call\n      return self._run_internal_graph(\n    File \"/home/rdyro/.pyenv/versions/cs329t/lib/python3.9/site-packages/keras/engine/functional.py\", line 589, in _run_internal_graph\n      outputs = node.layer(*args, **kwargs)\n    File \"/home/rdyro/.pyenv/versions/cs329t/lib/python3.9/site-packages/keras/engine/base_layer_v1.py\", line 765, in __call__\n      outputs = call_fn(cast_inputs, *args, **kwargs)\n    File \"/home/rdyro/.pyenv/versions/cs329t/lib/python3.9/site-packages/keras/layers/core/dense.py\", line 230, in call\n      outputs = tf.nn.bias_add(outputs, self.bias)\nNode: 'sequential_7/dense_1/BiasAdd/ReadVariableOp'\n2 root error(s) found.\n  (0) FAILED_PRECONDITION: Could not find variable dense_1/bias. This could mean that the variable has been deleted. In TF1, it can also mean the variable is uninitialized. Debug info: container=localhost, status error message=Container localhost does not exist. (Could not find resource: localhost/dense_1/bias)\n\t [[{{node sequential_7/dense_1/BiasAdd/ReadVariableOp}}]]\n\t [[sequential_7/dense_3/Sigmoid/_1]]\n  (1) FAILED_PRECONDITION: Could not find variable dense_1/bias. This could mean that the variable has been deleted. In TF1, it can also mean the variable is uninitialized. Debug info: container=localhost, status error message=Container localhost does not exist. (Could not find resource: localhost/dense_1/bias)\n\t [[{{node sequential_7/dense_1/BiasAdd/ReadVariableOp}}]]\n0 successful operations.\n0 derived errors ignored.\n\nOriginal stack trace for 'sequential_7/dense_1/BiasAdd/ReadVariableOp':\n  File \"/home/rdyro/.pyenv/versions/3.9.12/lib/python3.9/runpy.py\", line 197, in _run_module_as_main\n    return _run_code(code, main_globals, None,\n  File \"/home/rdyro/.pyenv/versions/3.9.12/lib/python3.9/runpy.py\", line 87, in _run_code\n    exec(code, run_globals)\n  File \"/home/rdyro/.pyenv/versions/cs329t/lib/python3.9/site-packages/ipykernel_launcher.py\", line 16, in <module>\n    app.launch_new_instance()\n  File \"/home/rdyro/.pyenv/versions/cs329t/lib/python3.9/site-packages/traitlets/config/application.py\", line 846, in launch_instance\n    app.start()\n  File \"/home/rdyro/.pyenv/versions/cs329t/lib/python3.9/site-packages/ipykernel/kernelapp.py\", line 612, in start\n    self.io_loop.start()\n  File \"/home/rdyro/.pyenv/versions/cs329t/lib/python3.9/site-packages/tornado/platform/asyncio.py\", line 199, in start\n    self.asyncio_loop.run_forever()\n  File \"/home/rdyro/.pyenv/versions/3.9.12/lib/python3.9/asyncio/base_events.py\", line 601, in run_forever\n    self._run_once()\n  File \"/home/rdyro/.pyenv/versions/3.9.12/lib/python3.9/asyncio/base_events.py\", line 1905, in _run_once\n    handle._run()\n  File \"/home/rdyro/.pyenv/versions/3.9.12/lib/python3.9/asyncio/events.py\", line 80, in _run\n    self._context.run(self._callback, *self._args)\n  File \"/home/rdyro/.pyenv/versions/cs329t/lib/python3.9/site-packages/tornado/ioloop.py\", line 688, in <lambda>\n    lambda f: self._run_callback(functools.partial(callback, future))\n  File \"/home/rdyro/.pyenv/versions/cs329t/lib/python3.9/site-packages/tornado/ioloop.py\", line 741, in _run_callback\n    ret = callback()\n  File \"/home/rdyro/.pyenv/versions/cs329t/lib/python3.9/site-packages/tornado/gen.py\", line 814, in inner\n    self.ctx_run(self.run)\n  File \"/home/rdyro/.pyenv/versions/cs329t/lib/python3.9/site-packages/tornado/gen.py\", line 775, in run\n    yielded = self.gen.send(value)\n  File \"/home/rdyro/.pyenv/versions/cs329t/lib/python3.9/site-packages/ipykernel/kernelbase.py\", line 358, in process_one\n    yield gen.maybe_future(dispatch(*args))\n  File \"/home/rdyro/.pyenv/versions/cs329t/lib/python3.9/site-packages/tornado/gen.py\", line 234, in wrapper\n    yielded = ctx_run(next, result)\n  File \"/home/rdyro/.pyenv/versions/cs329t/lib/python3.9/site-packages/ipykernel/kernelbase.py\", line 261, in dispatch_shell\n    yield gen.maybe_future(handler(stream, idents, msg))\n  File \"/home/rdyro/.pyenv/versions/cs329t/lib/python3.9/site-packages/tornado/gen.py\", line 234, in wrapper\n    yielded = ctx_run(next, result)\n  File \"/home/rdyro/.pyenv/versions/cs329t/lib/python3.9/site-packages/ipykernel/kernelbase.py\", line 536, in execute_request\n    self.do_execute(\n  File \"/home/rdyro/.pyenv/versions/cs329t/lib/python3.9/site-packages/tornado/gen.py\", line 234, in wrapper\n    yielded = ctx_run(next, result)\n  File \"/home/rdyro/.pyenv/versions/cs329t/lib/python3.9/site-packages/ipykernel/ipkernel.py\", line 302, in do_execute\n    res = shell.run_cell(code, store_history=store_history, silent=silent)\n  File \"/home/rdyro/.pyenv/versions/cs329t/lib/python3.9/site-packages/ipykernel/zmqshell.py\", line 539, in run_cell\n    return super(ZMQInteractiveShell, self).run_cell(*args, **kwargs)\n  File \"/home/rdyro/.pyenv/versions/cs329t/lib/python3.9/site-packages/IPython/core/interactiveshell.py\", line 2894, in run_cell\n    result = self._run_cell(\n  File \"/home/rdyro/.pyenv/versions/cs329t/lib/python3.9/site-packages/IPython/core/interactiveshell.py\", line 2940, in _run_cell\n    return runner(coro)\n  File \"/home/rdyro/.pyenv/versions/cs329t/lib/python3.9/site-packages/IPython/core/async_helpers.py\", line 68, in _pseudo_sync_runner\n    coro.send(None)\n  File \"/home/rdyro/.pyenv/versions/cs329t/lib/python3.9/site-packages/IPython/core/interactiveshell.py\", line 3165, in run_cell_async\n    has_raised = await self.run_ast_nodes(code_ast.body, cell_name,\n  File \"/home/rdyro/.pyenv/versions/cs329t/lib/python3.9/site-packages/IPython/core/interactiveshell.py\", line 3357, in run_ast_nodes\n    if (await self.run_code(code, result,  async_=asy)):\n  File \"/home/rdyro/.pyenv/versions/cs329t/lib/python3.9/site-packages/IPython/core/interactiveshell.py\", line 3437, in run_code\n    exec(code_obj, self.user_global_ns, self.user_ns)\n  File \"<ipython-input-15-321d43e493e1>\", line 2, in <module>\n    model(train_data.values).eval(session=session)\n  File \"/home/rdyro/.pyenv/versions/cs329t/lib/python3.9/site-packages/keras/engine/base_layer_v1.py\", line 811, in __call__\n    outputs = self.call(cast_inputs, *args, **kwargs)\n  File \"/home/rdyro/.pyenv/versions/cs329t/lib/python3.9/site-packages/keras/engine/sequential.py\", line 374, in call\n    return super(Sequential, self).call(inputs, training=training, mask=mask)\n  File \"/home/rdyro/.pyenv/versions/cs329t/lib/python3.9/site-packages/keras/engine/functional.py\", line 451, in call\n    return self._run_internal_graph(\n  File \"/home/rdyro/.pyenv/versions/cs329t/lib/python3.9/site-packages/keras/engine/functional.py\", line 589, in _run_internal_graph\n    outputs = node.layer(*args, **kwargs)\n  File \"/home/rdyro/.pyenv/versions/cs329t/lib/python3.9/site-packages/keras/engine/base_layer_v1.py\", line 765, in __call__\n    outputs = call_fn(cast_inputs, *args, **kwargs)\n  File \"/home/rdyro/.pyenv/versions/cs329t/lib/python3.9/site-packages/keras/layers/core/dense.py\", line 230, in call\n    outputs = tf.nn.bias_add(outputs, self.bias)\n  File \"/home/rdyro/.pyenv/versions/cs329t/lib/python3.9/site-packages/tensorflow/python/util/traceback_utils.py\", line 150, in error_handler\n    return fn(*args, **kwargs)\n  File \"/home/rdyro/.pyenv/versions/cs329t/lib/python3.9/site-packages/tensorflow/python/util/dispatch.py\", line 1082, in op_dispatch_handler\n    return dispatch_target(*args, **kwargs)\n  File \"/home/rdyro/.pyenv/versions/cs329t/lib/python3.9/site-packages/tensorflow/python/ops/nn_ops.py\", line 3521, in bias_add\n    bias = ops.convert_to_tensor(bias, dtype=value.dtype, name=\"bias\")\n  File \"/home/rdyro/.pyenv/versions/cs329t/lib/python3.9/site-packages/tensorflow/python/profiler/trace.py\", line 183, in wrapped\n    return func(*args, **kwargs)\n  File \"/home/rdyro/.pyenv/versions/cs329t/lib/python3.9/site-packages/tensorflow/python/framework/ops.py\", line 1695, in convert_to_tensor\n    ret = conversion_func(value, dtype=dtype, name=name, as_ref=as_ref)\n  File \"/home/rdyro/.pyenv/versions/cs329t/lib/python3.9/site-packages/tensorflow/python/ops/resource_variable_ops.py\", line 2098, in _dense_var_to_tensor\n    return var._dense_var_to_tensor(dtype=dtype, name=name, as_ref=as_ref)  # pylint: disable=protected-access\n  File \"/home/rdyro/.pyenv/versions/cs329t/lib/python3.9/site-packages/tensorflow/python/ops/resource_variable_ops.py\", line 1476, in _dense_var_to_tensor\n    return self.value()\n  File \"/home/rdyro/.pyenv/versions/cs329t/lib/python3.9/site-packages/tensorflow/python/ops/resource_variable_ops.py\", line 619, in value\n    return self._read_variable_op()\n  File \"/home/rdyro/.pyenv/versions/cs329t/lib/python3.9/site-packages/tensorflow/python/ops/resource_variable_ops.py\", line 728, in _read_variable_op\n    result = read_and_set_handle()\n  File \"/home/rdyro/.pyenv/versions/cs329t/lib/python3.9/site-packages/tensorflow/python/ops/resource_variable_ops.py\", line 718, in read_and_set_handle\n    result = gen_resource_variable_ops.read_variable_op(\n  File \"/home/rdyro/.pyenv/versions/cs329t/lib/python3.9/site-packages/tensorflow/python/ops/gen_resource_variable_ops.py\", line 493, in read_variable_op\n    _, _, _op, _outputs = _op_def_library._apply_op_helper(\n  File \"/home/rdyro/.pyenv/versions/cs329t/lib/python3.9/site-packages/tensorflow/python/framework/op_def_library.py\", line 740, in _apply_op_helper\n    op = g._create_op_internal(op_type_name, inputs, dtypes=None,\n  File \"/home/rdyro/.pyenv/versions/cs329t/lib/python3.9/site-packages/tensorflow/python/framework/ops.py\", line 3776, in _create_op_internal\n    ret = Operation(\n  File \"/home/rdyro/.pyenv/versions/cs329t/lib/python3.9/site-packages/tensorflow/python/framework/ops.py\", line 2175, in __init__\n    self._traceback = tf_stack.extract_stack_for_node(self._c_op)\n"
     ]
    }
   ],
   "source": [
    "session = tf.compat.v1.Session()\n",
    "model(train_data.values).eval(session=session)\n",
    "tf.reduce_mean(((model(train_data.values) > 0.5) == train_labels.values) * 1.0).eval(session=session)"
   ]
  },
  {
   "cell_type": "code",
   "execution_count": null,
   "metadata": {
    "cell_id": "00007-7ae41274-6190-4adc-9032-8271acd18d87",
    "colab": {},
    "colab_type": "code",
    "deepnote_cell_height": 102.15625,
    "deepnote_cell_type": "code",
    "id": "lI18CwYiQotq"
   },
   "outputs": [],
   "source": [
    "# Create a SHAP explainer by passing a subset of our training data\n",
    "import shap\n",
    "\n",
    "explainer = shap.DeepExplainer(model, train_data.values[:200])"
   ]
  },
  {
   "cell_type": "code",
   "execution_count": null,
   "metadata": {
    "cell_id": "00008-00ffe487-503b-4e02-85f5-d54c70e57ecb",
    "colab": {},
    "colab_type": "code",
    "deepnote_cell_height": 120.171875,
    "deepnote_cell_type": "code",
    "id": "iywHwbJJkeYG"
   },
   "outputs": [],
   "source": [
    "# Explain predictions of the model on the first 5 examples from our training set\n",
    "# to test the SHAP explainer.\n",
    "shap_values = explainer.shap_values(train_data.values[:5])\n",
    "shap_values"
   ]
  },
  {
   "cell_type": "code",
   "execution_count": null,
   "metadata": {
    "cell_id": "00009-71bd9daa-777f-4dba-94f1-bceb32b8665d",
    "colab": {},
    "colab_type": "code",
    "deepnote_cell_height": 786.15625,
    "deepnote_cell_type": "code",
    "id": "KF00pJvkeicT"
   },
   "outputs": [],
   "source": [
    "# @title Show model results and SHAP values in WIT\n",
    "from witwidget.notebook.visualization import WitWidget, WitConfigBuilder\n",
    "\n",
    "num_datapoints = 1000  # @param {type: \"number\"}\n",
    "\n",
    "# Column indices to strip out from data from WIT before passing it to the model.\n",
    "columns_not_for_model_input = [\n",
    "    test_data_with_labels.columns.get_loc(\"recidivism_within_2_years\"),\n",
    "    test_data_with_labels.columns.get_loc(\"COMPASS_determination\"),\n",
    "]\n",
    "\n",
    "# Return model predictions and SHAP values for each inference.\n",
    "def custom_predict_with_shap(examples_to_infer):\n",
    "    # Delete columns not used by model\n",
    "    model_inputs = np.delete(np.array(examples_to_infer), columns_not_for_model_input, axis=1)\n",
    "\n",
    "    # Get the class predictions from the model.\n",
    "    preds = model.predict(model_inputs)\n",
    "    preds = [[1 - pred[0], pred[0]] for pred in preds]\n",
    "\n",
    "    # Get the SHAP values from the explainer and create a map of feature name\n",
    "    # to SHAP value for each example passed to the model.\n",
    "    shap_output = explainer.shap_values(np.array(model_inputs))[0]\n",
    "    attributions = []\n",
    "    for shap in shap_output:\n",
    "        attrs = {}\n",
    "        for i, col in enumerate(df_for_training.columns):\n",
    "            attrs[col] = shap[i]\n",
    "        attributions.append(attrs)\n",
    "    ret = {\"predictions\": preds, \"attributions\": attributions}\n",
    "    return ret\n",
    "\n",
    "\n",
    "examples_for_shap_wit = test_data_with_labels.values.tolist()\n",
    "column_names = test_data_with_labels.columns.tolist()\n",
    "\n",
    "config_builder = (\n",
    "    WitConfigBuilder(examples_for_shap_wit[:num_datapoints], feature_names=column_names)\n",
    "    .set_custom_predict_fn(custom_predict_with_shap)\n",
    "    .set_target_feature(\"recidivism_within_2_years\")\n",
    ")\n",
    "\n",
    "ww = WitWidget(config_builder, height=800)"
   ]
  },
  {
   "cell_type": "markdown",
   "metadata": {
    "cell_id": "00010-66866f36-6874-41b7-8218-77ead165d334",
    "colab_type": "text",
    "deepnote_cell_height": 800.234375,
    "deepnote_cell_type": "markdown",
    "id": "AsFCKdt2HJHO"
   },
   "source": [
    "#### What-If Tool exploration ideas\n",
    "\n",
    "- Organize datapoints by \"inference score\" (can do this through binning or use of scatter plot) to see points ordered by how likely they were determined to re-offend.\n",
    "  - Select a point near the boundary line (where red points turn to blue points)\n",
    "  - Find the nearest counterfactual to see a similar person with a different decision. What is different?\n",
    "  - Look at the partial dependence plots for the selected person. What changes in what features would change the decision on this person?\n",
    "- Explore the attribution values provided by SHAP.\n",
    "  - For a variety of selected datapoints, look at which features have the highest positive attribution values. These are making the model predict higher risk for this person.\n",
    "  - Look at which features have the lowest negative attribution values as well. These are making the model predict lower risk for this person.\n",
    "  - How well do these attribution scores line up with the partial dependence plots for those datapoints?\n",
    "  - Use the attribution scores in the datapoints visualizations to look for interesting patterns. As one example, you could set the scatter X-axis to \"attributions__age\" and the scatter Y-axis to \"attributions__priors_count\" with the points colored by \"Inference score\" to investigate the relationship between feature importance of those two features and how those relate to the score the model gives for each datapoint being \"High risk\".\n",
    "- In \"Performance and Fairness\" tab, slice the dataset by different features (such as race or sex)\n",
    "  - Look at the confusion matrices for each slice - How does performance compare in those slices? What from the training data may have caused the difference in performance between the slices? What root causes could exist?\n",
    "  - Use the threshold optimization buttons to optimize positive classification thresholds for each slice based on any of the possible fairness constraints - How different do the thresholds have to be to achieve that constraint? How varied are the thresholds depending on the fairness constraint chosen?\n",
    "\n",
    "- In the \"Performance + Fairness\" tab, change the cost ratio so that you can optimize the threshold based off of a non-symmetric cost of false positives vs false negatives. Then click the \"optimize threshold\" button and see the effect on the confusion matrix. \n",
    "  - Slice the dataset by a feature, such as sex or race. How has the new cost ratio affected the disparity in performance between slices? Click the different threshold optimization buttons to see how the changed cost ratio affects the disparity given different fairness constraints.\n",
    "\n"
   ]
  },
  {
   "cell_type": "markdown",
   "metadata": {
    "cell_id": "00011-f5bc6895-9a0c-4178-a9b4-64f555707aa2",
    "colab_type": "text",
    "deepnote_cell_height": 248.75,
    "deepnote_cell_type": "markdown",
    "id": "W9qxcBj72Q_E"
   },
   "source": [
    "#### Further exploration ideas\n",
    "\n",
    "- Edit the training data so that race fields are not included as a feature and train a new model with this data as input (make sure to create a new explainer and a new custom prediction function that filters race out of model input and uses the right explainer and model).\n",
    "- Load the new model with set_compare_custom_predict_fn and compare it with the original model.\n",
    "  - HINT: You'll need to make edits in 3 separate code cells.\n",
    "  - Is there still a racial disparity in model results? If so, what could be the causes?\n",
    "  - How did the SHAP attributions change?"
   ]
  },
  {
   "cell_type": "markdown",
   "metadata": {
    "created_in_deepnote_cell": true,
    "deepnote_cell_type": "markdown",
    "tags": []
   },
   "source": [
    "<a style='text-decoration:none;line-height:16px;display:flex;color:#5B5B62;padding:10px;justify-content:end;' href='https://deepnote.com?utm_source=created-in-deepnote-cell&projectId=6f99e494-88c0-4d9d-8943-c19d4dba913c' target=\"_blank\">\n",
    "<img alt='Created in deepnote.com' style='display:inline;max-height:16px;margin:0px;margin-right:7.5px;' src='data:image/svg+xml;base64,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' > </img>\n",
    "Created in <span style='font-weight:600;margin-left:4px;'>Deepnote</span></a>"
   ]
  }
 ],
 "metadata": {
  "colab": {
   "collapsed_sections": [],
   "name": "WIT COMPAS with SHAP",
   "provenance": []
  },
  "deepnote": {},
  "deepnote_execution_queue": [],
  "deepnote_notebook_id": "f3c3b30d-7a29-47a3-a6e6-89fe2e1d8b52",
  "kernelspec": {
   "display_name": "Python 3",
   "language": "python",
   "name": "python3"
  },
  "language_info": {
   "codemirror_mode": {
    "name": "ipython",
    "version": 3
   },
   "file_extension": ".py",
   "mimetype": "text/x-python",
   "name": "python",
   "nbconvert_exporter": "python",
   "pygments_lexer": "ipython3",
   "version": "3.9.12"
  }
 },
 "nbformat": 4,
 "nbformat_minor": 4
}
