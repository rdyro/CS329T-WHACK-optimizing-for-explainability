{
 "cells": [
  {
   "cell_type": "markdown",
   "metadata": {
    "cell_id": "36f42242-003e-4e5e-b4e2-66079f7e160a",
    "colab_type": "text",
    "deepnote_cell_height": 554.109375,
    "deepnote_cell_type": "markdown",
    "id": "f1Id_0GukgNv",
    "owner_user_id": "846ba741-58ab-453a-8a6d-2ff917723e19"
   },
   "source": [
    "## What-If Tool and SHAP on COMPAS keras model\n",
    "\n",
    "This notebook shows:\n",
    "- Training of a keras model on the [COMPAS](https://www.kaggle.com/danofer/compass) dataset.\n",
    "- Explanation of inference results using [SHAP](https://github.com/slundberg/shap).\n",
    "- Use of What-If Tool on the trained model, including SHAP values.\n",
    "\n",
    "For ML fairness background on COMPAS see:\n",
    "\n",
    "- https://www.propublica.org/article/machine-bias-risk-assessments-in-criminal-sentencing\n",
    "- https://www.propublica.org/article/how-we-analyzed-the-compas-recidivism-algorithm\n",
    "- http://www.crj.org/assets/2017/07/9_Machine_bias_rejoinder.pdf\n",
    "\n",
    "This notebook trains a model to mimic the behavior of the COMPAS recidivism classifier and uses the SHAP library to provide feature importance for each prediction by the model. We can then analyze our COMPAS proxy model for fairness using the What-If Tool, and explore how important each feature was to each prediction through the SHAP values.\n",
    "\n",
    "The specific binary classification task for this model is to determine if a person belongs in the \"Low\" risk class according to COMPAS (negative class), or the \"Medium\" or \"High\" risk class (positive class). We then analyze it with the What-If Tool for its ability to predict recidivism within two years of arrest.\n",
    "\n",
    "A simpler version of this notebook that doesn't make use of the SHAP explainer can be found [here](https://colab.research.google.com/github/pair-code/what-if-tool/blob/master/WIT_COMPAS.ipynb).\n",
    "\n",
    "Copyright 2019 Google LLC.\n",
    "SPDX-License-Identifier: Apache-2.0"
   ]
  },
  {
   "cell_type": "code",
   "execution_count": 1,
   "metadata": {
    "cell_id": "00002-f0819b38-c012-4fd9-b1a0-40b32986cb21",
    "colab": {},
    "colab_type": "code",
    "deepnote_cell_height": 318.171875,
    "deepnote_cell_type": "code",
    "id": "wzEwkr3SoyLh"
   },
   "outputs": [
    {
     "name": "stdout",
     "output_type": "stream",
     "text": [
      "The autoreload extension is already loaded. To reload it, use:\n",
      "  %reload_ext autoreload\n"
     ]
    }
   ],
   "source": [
    "%autoreload 2\n",
    "%load_ext autoreload\n",
    "%matplotlib widget\n",
    "\n",
    "import os, pickle, pdb, shutil, re, math\n",
    "from copy import deepcopy, copy\n",
    "from pathlib import Path\n",
    "\n",
    "from tqdm.notebook import tqdm\n",
    "import pandas as pd, numpy as np, torch\n",
    "from sklearn.utils import shuffle\n",
    "import torchvision.transforms as T\n",
    "from torch.utils.tensorboard import SummaryWriter\n",
    "\n",
    "from utils import lime_fit, sample_around\n",
    "\n",
    "DTYPE, DEVICE = torch.float32, torch.device(\"cuda\")\n",
    "TOPTS = dict(dtype=DTYPE, device=DEVICE)"
   ]
  },
  {
   "cell_type": "code",
   "execution_count": 2,
   "metadata": {
    "cell_id": "00002-f0819b38-c012-4fd9-b1a0-40b32986cb21",
    "colab": {},
    "colab_type": "code",
    "deepnote_cell_height": 318.171875,
    "deepnote_cell_type": "code",
    "id": "wzEwkr3SoyLh"
   },
   "outputs": [
    {
     "data": {
      "text/html": [
       "<div>\n",
       "<style scoped>\n",
       "    .dataframe tbody tr th:only-of-type {\n",
       "        vertical-align: middle;\n",
       "    }\n",
       "\n",
       "    .dataframe tbody tr th {\n",
       "        vertical-align: top;\n",
       "    }\n",
       "\n",
       "    .dataframe thead th {\n",
       "        text-align: right;\n",
       "    }\n",
       "</style>\n",
       "<table border=\"1\" class=\"dataframe\">\n",
       "  <thead>\n",
       "    <tr style=\"text-align: right;\">\n",
       "      <th></th>\n",
       "      <th>age</th>\n",
       "      <th>juv_fel_count</th>\n",
       "      <th>juv_misd_count</th>\n",
       "      <th>juv_other_count</th>\n",
       "      <th>priors_count</th>\n",
       "      <th>recidivism_within_2_years</th>\n",
       "      <th>COMPASS_determination</th>\n",
       "      <th>sex_Female</th>\n",
       "      <th>sex_Male</th>\n",
       "      <th>race_African-American</th>\n",
       "      <th>race_Caucasian</th>\n",
       "      <th>race_Hispanic</th>\n",
       "      <th>race_Native American</th>\n",
       "      <th>race_Other</th>\n",
       "    </tr>\n",
       "  </thead>\n",
       "  <tbody>\n",
       "    <tr>\n",
       "      <th>0</th>\n",
       "      <td>69</td>\n",
       "      <td>0</td>\n",
       "      <td>0</td>\n",
       "      <td>0</td>\n",
       "      <td>0</td>\n",
       "      <td>0</td>\n",
       "      <td>0</td>\n",
       "      <td>0</td>\n",
       "      <td>1</td>\n",
       "      <td>0</td>\n",
       "      <td>0</td>\n",
       "      <td>0</td>\n",
       "      <td>0</td>\n",
       "      <td>1</td>\n",
       "    </tr>\n",
       "    <tr>\n",
       "      <th>1</th>\n",
       "      <td>69</td>\n",
       "      <td>0</td>\n",
       "      <td>0</td>\n",
       "      <td>0</td>\n",
       "      <td>0</td>\n",
       "      <td>0</td>\n",
       "      <td>0</td>\n",
       "      <td>0</td>\n",
       "      <td>1</td>\n",
       "      <td>0</td>\n",
       "      <td>0</td>\n",
       "      <td>0</td>\n",
       "      <td>0</td>\n",
       "      <td>1</td>\n",
       "    </tr>\n",
       "    <tr>\n",
       "      <th>3</th>\n",
       "      <td>34</td>\n",
       "      <td>0</td>\n",
       "      <td>0</td>\n",
       "      <td>0</td>\n",
       "      <td>0</td>\n",
       "      <td>1</td>\n",
       "      <td>0</td>\n",
       "      <td>0</td>\n",
       "      <td>1</td>\n",
       "      <td>1</td>\n",
       "      <td>0</td>\n",
       "      <td>0</td>\n",
       "      <td>0</td>\n",
       "      <td>0</td>\n",
       "    </tr>\n",
       "    <tr>\n",
       "      <th>4</th>\n",
       "      <td>24</td>\n",
       "      <td>0</td>\n",
       "      <td>0</td>\n",
       "      <td>1</td>\n",
       "      <td>4</td>\n",
       "      <td>1</td>\n",
       "      <td>0</td>\n",
       "      <td>0</td>\n",
       "      <td>1</td>\n",
       "      <td>1</td>\n",
       "      <td>0</td>\n",
       "      <td>0</td>\n",
       "      <td>0</td>\n",
       "      <td>0</td>\n",
       "    </tr>\n",
       "    <tr>\n",
       "      <th>5</th>\n",
       "      <td>24</td>\n",
       "      <td>0</td>\n",
       "      <td>0</td>\n",
       "      <td>1</td>\n",
       "      <td>4</td>\n",
       "      <td>1</td>\n",
       "      <td>0</td>\n",
       "      <td>0</td>\n",
       "      <td>1</td>\n",
       "      <td>1</td>\n",
       "      <td>0</td>\n",
       "      <td>0</td>\n",
       "      <td>0</td>\n",
       "      <td>0</td>\n",
       "    </tr>\n",
       "  </tbody>\n",
       "</table>\n",
       "</div>"
      ],
      "text/plain": [
       "   age  juv_fel_count  juv_misd_count  juv_other_count  priors_count  \\\n",
       "0   69              0               0                0             0   \n",
       "1   69              0               0                0             0   \n",
       "3   34              0               0                0             0   \n",
       "4   24              0               0                1             4   \n",
       "5   24              0               0                1             4   \n",
       "\n",
       "   recidivism_within_2_years  COMPASS_determination  sex_Female  sex_Male  \\\n",
       "0                          0                      0           0         1   \n",
       "1                          0                      0           0         1   \n",
       "3                          1                      0           0         1   \n",
       "4                          1                      0           0         1   \n",
       "5                          1                      0           0         1   \n",
       "\n",
       "   race_African-American  race_Caucasian  race_Hispanic  race_Native American  \\\n",
       "0                      0               0              0                     0   \n",
       "1                      0               0              0                     0   \n",
       "3                      1               0              0                     0   \n",
       "4                      1               0              0                     0   \n",
       "5                      1               0              0                     0   \n",
       "\n",
       "   race_Other  \n",
       "0           1  \n",
       "1           1  \n",
       "3           0  \n",
       "4           0  \n",
       "5           0  "
      ]
     },
     "execution_count": 2,
     "metadata": {},
     "output_type": "execute_result"
    }
   ],
   "source": [
    "df = pd.read_csv(Path(\"\") / \"data\" / \"compas\" / \"cox-violent-parsed_filt.csv\")\n",
    "\n",
    "# Preprocess the data\n",
    "\n",
    "# Filter out entries with no indication of recidivism or no compass score\n",
    "df = df[df[\"is_recid\"] != -1]\n",
    "df = df[df[\"decile_score\"] != -1]\n",
    "\n",
    "# Rename recidivism column\n",
    "df[\"recidivism_within_2_years\"] = df[\"is_recid\"]\n",
    "\n",
    "# Make the COMPASS label column numeric (0 and 1), for use in our model\n",
    "df[\"COMPASS_determination\"] = np.where(df[\"score_text\"] == \"Low\", 0, 1)\n",
    "\n",
    "df = pd.get_dummies(df, columns=[\"sex\", \"race\"])\n",
    "\n",
    "# Get list of all columns from the dataset we will use for model input or output.\n",
    "input_features = [\n",
    "    \"sex_Female\",\n",
    "    \"sex_Male\",\n",
    "    \"age\",\n",
    "    \"race_African-American\",\n",
    "    \"race_Caucasian\",\n",
    "    \"race_Hispanic\",\n",
    "    \"race_Native American\",\n",
    "    \"race_Other\",\n",
    "    \"priors_count\",\n",
    "    \"juv_fel_count\",\n",
    "    \"juv_misd_count\",\n",
    "    \"juv_other_count\",\n",
    "]\n",
    "\n",
    "to_keep = input_features + [\"recidivism_within_2_years\", \"COMPASS_determination\"]\n",
    "\n",
    "to_remove = [col for col in df.columns if col not in to_keep]\n",
    "df = df.drop(columns=to_remove)\n",
    "\n",
    "input_columns = df.columns.tolist()\n",
    "labels = df[\"COMPASS_determination\"]\n",
    "df.head()"
   ]
  },
  {
   "cell_type": "code",
   "execution_count": 3,
   "metadata": {
    "cell_id": "00004-de54ccf0-cc72-441f-9628-7a908132a348",
    "colab": {},
    "colab_type": "code",
    "deepnote_cell_height": 246.15625,
    "deepnote_cell_type": "code",
    "id": "U0ZfePT1rTmZ"
   },
   "outputs": [],
   "source": [
    "# Create data structures needing for training and testing.\n",
    "# The training data doesn't contain the column we are predicting,\n",
    "# 'COMPASS_determination', or the column we are using for evaluation of our\n",
    "# trained model, 'recidivism_within_2_years'.\n",
    "df_for_training = df.drop(columns=[\"COMPASS_determination\", \"recidivism_within_2_years\"])\n",
    "train_size = int(len(df_for_training) * 0.8)\n",
    "\n",
    "train_data = df_for_training[:train_size]\n",
    "train_labels = labels[:train_size]\n",
    "test_data = df_for_training[train_size:]\n",
    "test_labels = labels[train_size:]\n",
    "\n",
    "test_data_with_labels = df[train_size:]"
   ]
  },
  {
   "cell_type": "code",
   "execution_count": 4,
   "metadata": {},
   "outputs": [],
   "source": [
    "Xtr, Ytr = train_data.values, train_labels.values\n",
    "Xts, Yts = test_data.values, test_labels.values\n",
    "MU, STD = np.mean(Xtr, -2), np.std(Xtr, -2)\n",
    "normalize_fn = lambda x: (x - MU[None, ...]) / STD[None, ...]\n",
    "Xtr = normalize_fn(Xtr)\n",
    "Xts = normalize_fn(Xts)\n",
    "train_loader = torch.utils.data.DataLoader(list(zip(*[Xtr, Ytr])), batch_size=1024, num_workers=8)\n",
    "test_loader = torch.utils.data.DataLoader(list(zip(*[Xts, Yts])), batch_size=1024, num_workers=8)"
   ]
  },
  {
   "cell_type": "code",
   "execution_count": 7,
   "metadata": {
    "cell_id": "00005-62743ad9-fb8b-453d-9b8e-f601cd11e0da",
    "colab": {},
    "colab_type": "code",
    "deepnote_cell_height": 264.15625,
    "deepnote_cell_type": "code",
    "id": "5T2XThgosWX-"
   },
   "outputs": [],
   "source": [
    "# Create the model\n",
    "\n",
    "# This is the size of the array we'll be feeding into our model for each example\n",
    "input_size = len(train_data.iloc[0])\n",
    "\n",
    "RACE_IDX = [i for (i, z) in enumerate(train_data.columns) if re.match(r\"race_.*\", z) is not None]\n",
    "\n",
    "# activation = torch.nn.ReLU()\n",
    "activation = torch.nn.Softplus(1e2)\n",
    "\n",
    "\n",
    "def generate_model():\n",
    "    model = (\n",
    "        torch.nn.Sequential(\n",
    "            torch.nn.Linear(input_size, 128),\n",
    "            copy(activation),\n",
    "            torch.nn.Linear(128, 128),\n",
    "            copy(activation),\n",
    "            torch.nn.Linear(128, 1),\n",
    "            torch.nn.Sigmoid(),\n",
    "        )\n",
    "        .to(DTYPE)\n",
    "        .to(DEVICE)\n",
    "    )\n",
    "    loss_obj = torch.nn.BCELoss()\n",
    "    lam = 1e-3\n",
    "    loss_fn = lambda Yp, Y: loss_obj(Yp, Y) + sum(lam * torch.sum(param**2) / 2 for param in model.parameters())\n",
    "\n",
    "    x0 = torch.as_tensor(Xtr[torch.randint(0, Xtr.shape[0], size=(1000,)), :], device=DEVICE, dtype=DTYPE)\n",
    "    Xs = sample_around(x0, torch.tensor(STD, device=DEVICE, dtype=DTYPE), N=int(1e2), alf=1e-2)\n",
    "    Xs = Xs.transpose(0, 1)\n",
    "    loss_fn_ = loss_fn\n",
    "\n",
    "    def loss_fn(Yp, Y, penalize=True, penalty=\"exact\", gam=1e1):\n",
    "        ret = loss_fn_(Yp, Y)\n",
    "        if penalize:\n",
    "            Yp = model(Xs)\n",
    "            W, b = lime_fit(Xs, Yp)\n",
    "            if penalty == \"exact\":\n",
    "                ret = ret + gam * torch.mean(torch.norm(W[..., RACE_IDX, 0], dim=-1))\n",
    "            elif penalty == \"mse\":\n",
    "                ret = ret + gam * torch.mean(torch.norm(W[..., RACE_IDX, 0], dim=-1) ** 2)\n",
    "            elif penalty == \"super-exact\":\n",
    "                ret = ret + gam * torch.mean(torch.sqrt(torch.norm(W[..., RACE_IDX, 0], dim=-1)))\n",
    "            else:\n",
    "                raise ValueError(f\"penalty [{penalty}] is not supported\")\n",
    "        return ret\n",
    "\n",
    "    optimizer = torch.optim.Adam(model.parameters(), lr=1e-3)\n",
    "    scheduler = torch.optim.lr_scheduler.StepLR(optimizer, step_size=10, gamma=0.3)\n",
    "    return model, loss_fn, optimizer, scheduler, Xs\n",
    "\n",
    "\n",
    "def accuracy(model, loader):\n",
    "    correct = 0\n",
    "    for X, Y in loader:\n",
    "        X, Y = X.to(DTYPE).to(DEVICE), Y.to(DEVICE)\n",
    "        Yp = model(X)\n",
    "        correct += torch.sum((Yp > 0.5).reshape(Y.shape) == Y).detach()\n",
    "    return correct / len(loader.dataset)"
   ]
  },
  {
   "cell_type": "code",
   "execution_count": 15,
   "metadata": {},
   "outputs": [
    {
     "data": {
      "application/vnd.jupyter.widget-view+json": {
       "model_id": "88199debf6a64ecfbbc57bca239733cc",
       "version_major": 2,
       "version_minor": 0
      },
      "text/plain": [
       "  0%|          | 0/10 [00:00<?, ?it/s]"
      ]
     },
     "metadata": {},
     "output_type": "display_data"
    },
    {
     "name": "stdout",
     "output_type": "stream",
     "text": [
      "Penalize = False\n",
      "0.3325492739677429\n",
      "################################################################################\n"
     ]
    },
    {
     "data": {
      "application/vnd.jupyter.widget-view+json": {
       "model_id": "10d529af8fe947c0be6bb941a29a05c6",
       "version_major": 2,
       "version_minor": 0
      },
      "text/plain": [
       "  0%|          | 0/10 [00:00<?, ?it/s]"
      ]
     },
     "metadata": {},
     "output_type": "display_data"
    },
    {
     "name": "stdout",
     "output_type": "stream",
     "text": [
      "Penalize = True\n",
      "Penalty = exact\n",
      "0.00370749831199646\n",
      "################################################################################\n"
     ]
    },
    {
     "data": {
      "application/vnd.jupyter.widget-view+json": {
       "model_id": "a9946e8ef2884f488dd7a45cfdfd5e08",
       "version_major": 2,
       "version_minor": 0
      },
      "text/plain": [
       "  0%|          | 0/10 [00:00<?, ?it/s]"
      ]
     },
     "metadata": {},
     "output_type": "display_data"
    },
    {
     "name": "stdout",
     "output_type": "stream",
     "text": [
      "Penalize = True\n",
      "Penalty = mse\n",
      "0.009267126210033894\n",
      "################################################################################\n"
     ]
    },
    {
     "data": {
      "application/vnd.jupyter.widget-view+json": {
       "model_id": "e80cdcbc9eef4065b2731214e8e68de1",
       "version_major": 2,
       "version_minor": 0
      },
      "text/plain": [
       "  0%|          | 0/10 [00:00<?, ?it/s]"
      ]
     },
     "metadata": {},
     "output_type": "display_data"
    },
    {
     "name": "stdout",
     "output_type": "stream",
     "text": [
      "Penalize = True\n",
      "Penalty = super-exact\n",
      "0.0019427312072366476\n",
      "################################################################################\n"
     ]
    }
   ],
   "source": [
    "accs, metrics = [], []\n",
    "for (penalize, penalty, gam) in [\n",
    "    (False, \"exact\", 1e1),\n",
    "    (True, \"exact\", 1e1),\n",
    "    (True, \"mse\", 1e2),\n",
    "    (True, \"super-exact\", 1.5e0),\n",
    "]:\n",
    "    model, loss_fn, optimizer, scheduler, Xs = generate_model()\n",
    "    shutil.rmtree(Path(\"\") / \"runs\")\n",
    "    writer = SummaryWriter()\n",
    "    rng = tqdm(range(int(10)))\n",
    "    for epoch in rng:\n",
    "        for (i, (X, Y)) in enumerate(train_loader):\n",
    "            X, Y = X.to(DTYPE).to(DEVICE), Y.to(DTYPE).to(DEVICE)\n",
    "            loss = loss_fn(model(X).reshape(Y.shape), Y, penalize=penalize, penalty=penalty, gam=gam)\n",
    "            optimizer.zero_grad()\n",
    "            loss.backward()\n",
    "            optimizer.step()\n",
    "            # rng.set_description(f\"{loss.detach():.4e}\")\n",
    "            writer.add_scalar(\"loss/train\", float(loss), i + epoch * len(train_loader))\n",
    "            writer.add_scalar(\"step_size\", float(optimizer.param_groups[0][\"lr\"]), i + epoch * len(train_loader))\n",
    "            writer.flush()\n",
    "        scheduler.step()\n",
    "        # tqdm.write(f\"Accuracy = {1e2 * accuracy(model, test_loader):.3f}%\")\n",
    "        rng.set_description(\n",
    "            f\"Accuracy = (test = {1e2 * accuracy(model, test_loader):.3f}%,\"\n",
    "            + f\"train = {1e2 * accuracy(model, train_loader):.3f}%)\"\n",
    "        )\n",
    "        # tqdm.write(f\"Loss =     {loss_obj(model(X).reshape(Y.shape), Y):.5e}\")\n",
    "\n",
    "    W, b = lime_fit(Xs, model(Xs))\n",
    "    print(f\"Penalize = {penalize}\")\n",
    "    if penalize:\n",
    "        print(f\"Penalty = {penalty}\")\n",
    "    metric = torch.mean(torch.norm(W[..., RACE_IDX, 0], dim=-1))\n",
    "    print(float(metric))\n",
    "    accs.append(float(1e2 * accuracy(model, test_loader)))\n",
    "    metrics.append(float(metric))\n",
    "    print(\"#\" * 80)"
   ]
  },
  {
   "cell_type": "code",
   "execution_count": 18,
   "metadata": {},
   "outputs": [
    {
     "name": "stdout",
     "output_type": "stream",
     "text": [
      "[74.11326599121094, 72.19679260253906, 73.14073181152344, 70.16590118408203]\n",
      "[0.3325492739677429, 0.00370749831199646, 0.009267126210033894, 0.0019427312072366476]\n"
     ]
    }
   ],
   "source": [
    "print(accs)\n",
    "print(metrics)"
   ]
  },
  {
   "cell_type": "code",
   "execution_count": 19,
   "metadata": {},
   "outputs": [],
   "source": [
    "def check_gam(gam):\n",
    "    model, loss_fn, optimizer, scheduler, Xs = generate_model()\n",
    "    shutil.rmtree(Path(\"\") / \"runs\")\n",
    "    writer = SummaryWriter()\n",
    "    rng = tqdm(range(int(10)))\n",
    "    for epoch in rng:\n",
    "        for (i, (X, Y)) in enumerate(train_loader):\n",
    "            X, Y = X.to(DTYPE).to(DEVICE), Y.to(DTYPE).to(DEVICE)\n",
    "            loss = loss_fn(model(X).reshape(Y.shape), Y, penalize=True, penalty=\"exact\", gam=gam)\n",
    "            optimizer.zero_grad()\n",
    "            loss.backward()\n",
    "            optimizer.step()\n",
    "            writer.add_scalar(\"loss/train\", float(loss), i + epoch * len(train_loader))\n",
    "            writer.add_scalar(\"step_size\", float(optimizer.param_groups[0][\"lr\"]), i + epoch * len(train_loader))\n",
    "            writer.flush()\n",
    "        scheduler.step()\n",
    "        # tqdm.write(f\"Accuracy = {1e2 * accuracy(model, test_loader):.3f}%\")\n",
    "        rng.set_description(\n",
    "            f\"Accuracy = (test = {1e2 * accuracy(model, test_loader):.3f}%,\"\n",
    "            + f\"train = {1e2 * accuracy(model, train_loader):.3f}%)\"\n",
    "        )\n",
    "        # tqdm.write(f\"Loss =     {loss_obj(model(X).reshape(Y.shape), Y):.5e}\")\n",
    "\n",
    "    W, b = lime_fit(Xs, model(Xs))\n",
    "    print(f\"Penalize = {penalize}\")\n",
    "    if penalize:\n",
    "        print(f\"Penalty = {penalty}\")\n",
    "        print(f\"Gam = {gam}\")\n",
    "    metric = torch.mean(torch.norm(W[..., RACE_IDX, 0], dim=-1))\n",
    "    print(metric)\n",
    "    print(\"#\" * 80)\n",
    "    return metric"
   ]
  },
  {
   "cell_type": "code",
   "execution_count": 20,
   "metadata": {},
   "outputs": [
    {
     "data": {
      "application/vnd.jupyter.widget-view+json": {
       "model_id": "e42e6a6a86644ce2b116f60012c7f81b",
       "version_major": 2,
       "version_minor": 0
      },
      "text/plain": [
       "  0%|          | 0/10 [00:00<?, ?it/s]"
      ]
     },
     "metadata": {},
     "output_type": "display_data"
    },
    {
     "name": "stdout",
     "output_type": "stream",
     "text": [
      "Penalize = True\n",
      "Penalty = super-exact\n",
      "Gam = 0.01\n",
      "tensor(0.2527, device='cuda:0', grad_fn=<MeanBackward0>)\n",
      "################################################################################\n"
     ]
    },
    {
     "data": {
      "application/vnd.jupyter.widget-view+json": {
       "model_id": "b532516a986c469881ead770d71267c1",
       "version_major": 2,
       "version_minor": 0
      },
      "text/plain": [
       "  0%|          | 0/10 [00:00<?, ?it/s]"
      ]
     },
     "metadata": {},
     "output_type": "display_data"
    },
    {
     "name": "stdout",
     "output_type": "stream",
     "text": [
      "Penalize = True\n",
      "Penalty = super-exact\n",
      "Gam = 0.027825594022071243\n",
      "tensor(0.1842, device='cuda:0', grad_fn=<MeanBackward0>)\n",
      "################################################################################\n"
     ]
    },
    {
     "data": {
      "application/vnd.jupyter.widget-view+json": {
       "model_id": "140d575fd68f463890312e5665e83648",
       "version_major": 2,
       "version_minor": 0
      },
      "text/plain": [
       "  0%|          | 0/10 [00:00<?, ?it/s]"
      ]
     },
     "metadata": {},
     "output_type": "display_data"
    },
    {
     "name": "stdout",
     "output_type": "stream",
     "text": [
      "Penalize = True\n",
      "Penalty = super-exact\n",
      "Gam = 0.0774263682681127\n",
      "tensor(0.1134, device='cuda:0', grad_fn=<MeanBackward0>)\n",
      "################################################################################\n"
     ]
    },
    {
     "data": {
      "application/vnd.jupyter.widget-view+json": {
       "model_id": "0f7c01bec43a48daabfc0a0eb0120a3a",
       "version_major": 2,
       "version_minor": 0
      },
      "text/plain": [
       "  0%|          | 0/10 [00:00<?, ?it/s]"
      ]
     },
     "metadata": {},
     "output_type": "display_data"
    },
    {
     "name": "stdout",
     "output_type": "stream",
     "text": [
      "Penalize = True\n",
      "Penalty = super-exact\n",
      "Gam = 0.21544346900318834\n",
      "tensor(0.0638, device='cuda:0', grad_fn=<MeanBackward0>)\n",
      "################################################################################\n"
     ]
    },
    {
     "data": {
      "application/vnd.jupyter.widget-view+json": {
       "model_id": "31690e1f5eb14a38a4e36daf00651e4f",
       "version_major": 2,
       "version_minor": 0
      },
      "text/plain": [
       "  0%|          | 0/10 [00:00<?, ?it/s]"
      ]
     },
     "metadata": {},
     "output_type": "display_data"
    },
    {
     "name": "stdout",
     "output_type": "stream",
     "text": [
      "Penalize = True\n",
      "Penalty = super-exact\n",
      "Gam = 0.5994842503189409\n",
      "tensor(0.0332, device='cuda:0', grad_fn=<MeanBackward0>)\n",
      "################################################################################\n"
     ]
    },
    {
     "data": {
      "application/vnd.jupyter.widget-view+json": {
       "model_id": "35ba9ccca50e449a8ca4e273063f7e73",
       "version_major": 2,
       "version_minor": 0
      },
      "text/plain": [
       "  0%|          | 0/10 [00:00<?, ?it/s]"
      ]
     },
     "metadata": {},
     "output_type": "display_data"
    },
    {
     "name": "stdout",
     "output_type": "stream",
     "text": [
      "Penalize = True\n",
      "Penalty = super-exact\n",
      "Gam = 1.6681005372000592\n",
      "tensor(0.0144, device='cuda:0', grad_fn=<MeanBackward0>)\n",
      "################################################################################\n"
     ]
    },
    {
     "data": {
      "application/vnd.jupyter.widget-view+json": {
       "model_id": "34c09642911c493e93d11aea68d3566c",
       "version_major": 2,
       "version_minor": 0
      },
      "text/plain": [
       "  0%|          | 0/10 [00:00<?, ?it/s]"
      ]
     },
     "metadata": {},
     "output_type": "display_data"
    },
    {
     "name": "stdout",
     "output_type": "stream",
     "text": [
      "Penalize = True\n",
      "Penalty = super-exact\n",
      "Gam = 4.6415888336127775\n",
      "tensor(0.0067, device='cuda:0', grad_fn=<MeanBackward0>)\n",
      "################################################################################\n"
     ]
    },
    {
     "data": {
      "application/vnd.jupyter.widget-view+json": {
       "model_id": "d5b9c52f85204c87b9b001844c26d2cf",
       "version_major": 2,
       "version_minor": 0
      },
      "text/plain": [
       "  0%|          | 0/10 [00:00<?, ?it/s]"
      ]
     },
     "metadata": {},
     "output_type": "display_data"
    },
    {
     "name": "stdout",
     "output_type": "stream",
     "text": [
      "Penalize = True\n",
      "Penalty = super-exact\n",
      "Gam = 12.915496650148826\n",
      "tensor(0.0025, device='cuda:0', grad_fn=<MeanBackward0>)\n",
      "################################################################################\n"
     ]
    },
    {
     "data": {
      "application/vnd.jupyter.widget-view+json": {
       "model_id": "7db88e34cd394d4b8f52d2d1ca681e82",
       "version_major": 2,
       "version_minor": 0
      },
      "text/plain": [
       "  0%|          | 0/10 [00:00<?, ?it/s]"
      ]
     },
     "metadata": {},
     "output_type": "display_data"
    },
    {
     "name": "stdout",
     "output_type": "stream",
     "text": [
      "Penalize = True\n",
      "Penalty = super-exact\n",
      "Gam = 35.93813663804626\n",
      "tensor(0.0006, device='cuda:0', grad_fn=<MeanBackward0>)\n",
      "################################################################################\n"
     ]
    },
    {
     "data": {
      "application/vnd.jupyter.widget-view+json": {
       "model_id": "e338b6f498ce43738312c51230dd47f8",
       "version_major": 2,
       "version_minor": 0
      },
      "text/plain": [
       "  0%|          | 0/10 [00:00<?, ?it/s]"
      ]
     },
     "metadata": {},
     "output_type": "display_data"
    },
    {
     "name": "stdout",
     "output_type": "stream",
     "text": [
      "Penalize = True\n",
      "Penalty = super-exact\n",
      "Gam = 100.0\n",
      "tensor(0.0004, device='cuda:0', grad_fn=<MeanBackward0>)\n",
      "################################################################################\n"
     ]
    }
   ],
   "source": [
    "gams = 10.0 ** np.linspace(-2, 2, 10)\n",
    "vals = [check_gam(gam) for gam in gams]"
   ]
  },
  {
   "cell_type": "code",
   "execution_count": 23,
   "metadata": {},
   "outputs": [
    {
     "data": {
      "text/plain": [
       "[0.2527238726615906,\n",
       " 0.18422257900238037,\n",
       " 0.11337780207395554,\n",
       " 0.06382934749126434,\n",
       " 0.03317005932331085,\n",
       " 0.014389969408512115,\n",
       " 0.006740198004990816,\n",
       " 0.002512869890779257,\n",
       " 0.0006253707688301802,\n",
       " 0.00040408188942819834]"
      ]
     },
     "execution_count": 23,
     "metadata": {},
     "output_type": "execute_result"
    }
   ],
   "source": [
    "vals"
   ]
  },
  {
   "cell_type": "code",
   "execution_count": 25,
   "metadata": {},
   "outputs": [
    {
     "data": {
      "text/plain": [
       "array([1.00000000e-02, 2.78255940e-02, 7.74263683e-02, 2.15443469e-01,\n",
       "       5.99484250e-01, 1.66810054e+00, 4.64158883e+00, 1.29154967e+01,\n",
       "       3.59381366e+01, 1.00000000e+02])"
      ]
     },
     "execution_count": 25,
     "metadata": {},
     "output_type": "execute_result"
    }
   ],
   "source": [
    "gams"
   ]
  },
  {
   "cell_type": "code",
   "execution_count": 24,
   "metadata": {},
   "outputs": [],
   "source": [
    "accs = [73.455, 73.713, 73.627, 73.827, 73.513, 73.169, 72.912, 72.311, 55.921, 54.634]"
   ]
  },
  {
   "cell_type": "markdown",
   "metadata": {},
   "source": [
    "--------------------------------------------------------------------------------"
   ]
  },
  {
   "cell_type": "code",
   "execution_count": 34,
   "metadata": {
    "cell_id": "00007-7ae41274-6190-4adc-9032-8271acd18d87",
    "colab": {},
    "colab_type": "code",
    "deepnote_cell_height": 102.15625,
    "deepnote_cell_type": "code",
    "id": "lI18CwYiQotq"
   },
   "outputs": [
    {
     "data": {
      "text/plain": [
       "False"
      ]
     },
     "execution_count": 34,
     "metadata": {},
     "output_type": "execute_result"
    }
   ],
   "source": [
    "# Create a SHAP explainer by passing a subset of our training data\n",
    "import shap\n",
    "\n",
    "explainer = shap.DeepExplainer(model, torch.tensor(train_data.values[:200]).to(DTYPE).to(DEVICE))\n",
    "explainer.explainer.interim"
   ]
  },
  {
   "cell_type": "code",
   "execution_count": 31,
   "metadata": {
    "cell_id": "00008-00ffe487-503b-4e02-85f5-d54c70e57ecb",
    "colab": {},
    "colab_type": "code",
    "deepnote_cell_height": 120.171875,
    "deepnote_cell_type": "code",
    "id": "iywHwbJJkeYG"
   },
   "outputs": [
    {
     "data": {
      "text/plain": [
       "array([[-5.71903102e-02, -1.97675225e-04, -1.98997383e-04,\n",
       "        -1.92532389e-04, -4.12244089e-02, -1.43817724e-09,\n",
       "         1.28570010e-09, -1.71174586e-04,  1.77759330e-06,\n",
       "         3.25610164e-11,  0.00000000e+00, -3.68765322e-04],\n",
       "       [-5.71903102e-02, -1.97675225e-04, -1.98997383e-04,\n",
       "        -1.92532389e-04, -4.12244089e-02, -1.43817724e-09,\n",
       "         1.28570010e-09, -1.71174586e-04,  1.77759330e-06,\n",
       "         3.25610164e-11,  0.00000000e+00, -3.68765322e-04],\n",
       "       [-6.04670588e-03, -3.85728083e-04, -3.56173958e-04,\n",
       "        -4.00341756e-04, -8.20497125e-02, -4.35711378e-09,\n",
       "         2.81565038e-09,  2.28080557e-06,  3.80985762e-06,\n",
       "         1.35330511e-10,  0.00000000e+00,  1.81077341e-11],\n",
       "       [ 5.16895279e-02, -7.97657587e-04, -5.81035041e-04,\n",
       "        -3.81269056e-04, -1.27719998e-01, -1.18468336e-07,\n",
       "        -3.39043034e-08,  8.59804459e-06,  1.11365889e-05,\n",
       "         9.25007129e-08,  0.00000000e+00,  1.37961976e-07],\n",
       "       [ 5.16895279e-02, -7.97657587e-04, -5.81035041e-04,\n",
       "        -3.81269056e-04, -1.27719998e-01, -1.18468336e-07,\n",
       "        -3.39043034e-08,  8.59804459e-06,  1.11365889e-05,\n",
       "         9.25007129e-08,  0.00000000e+00,  1.37961976e-07]])"
      ]
     },
     "execution_count": 31,
     "metadata": {},
     "output_type": "execute_result"
    }
   ],
   "source": [
    "# Explain predictions of the model on the first 5 examples from our training set\n",
    "# to test the SHAP explainer.\n",
    "shap_values = explainer.shap_values(torch.tensor(train_data.values[:5]).to(DTYPE).to(DEVICE))\n",
    "shap_values\n",
    "# print(shap_values[0, :])"
   ]
  },
  {
   "cell_type": "markdown",
   "metadata": {},
   "source": [
    "--------------------------------------------------------------------------------"
   ]
  },
  {
   "cell_type": "code",
   "execution_count": null,
   "metadata": {
    "cell_id": "00009-71bd9daa-777f-4dba-94f1-bceb32b8665d",
    "colab": {},
    "colab_type": "code",
    "deepnote_cell_height": 786.15625,
    "deepnote_cell_type": "code",
    "id": "KF00pJvkeicT"
   },
   "outputs": [],
   "source": [
    "# @title Show model results and SHAP values in WIT\n",
    "from witwidget.notebook.visualization import WitWidget, WitConfigBuilder\n",
    "\n",
    "num_datapoints = 1000  # @param {type: \"number\"}\n",
    "\n",
    "# Column indices to strip out from data from WIT before passing it to the model.\n",
    "columns_not_for_model_input = [\n",
    "    test_data_with_labels.columns.get_loc(\"recidivism_within_2_years\"),\n",
    "    test_data_with_labels.columns.get_loc(\"COMPASS_determination\"),\n",
    "]\n",
    "\n",
    "# Return model predictions and SHAP values for each inference.\n",
    "def custom_predict_with_shap(examples_to_infer):\n",
    "    # Delete columns not used by model\n",
    "    model_inputs = np.delete(np.array(examples_to_infer), columns_not_for_model_input, axis=1)\n",
    "\n",
    "    # Get the class predictions from the model.\n",
    "    preds = model.predict(model_inputs)\n",
    "    preds = [[1 - pred[0], pred[0]] for pred in preds]\n",
    "\n",
    "    # Get the SHAP values from the explainer and create a map of feature name\n",
    "    # to SHAP value for each example passed to the model.\n",
    "    shap_output = explainer.shap_values(np.array(model_inputs))[0]\n",
    "    attributions = []\n",
    "    for shap in shap_output:\n",
    "        attrs = {}\n",
    "        for i, col in enumerate(df_for_training.columns):\n",
    "            attrs[col] = shap[i]\n",
    "        attributions.append(attrs)\n",
    "    ret = {\"predictions\": preds, \"attributions\": attributions}\n",
    "    return ret\n",
    "\n",
    "\n",
    "examples_for_shap_wit = test_data_with_labels.values.tolist()\n",
    "column_names = test_data_with_labels.columns.tolist()\n",
    "\n",
    "config_builder = (\n",
    "    WitConfigBuilder(examples_for_shap_wit[:num_datapoints], feature_names=column_names)\n",
    "    .set_custom_predict_fn(custom_predict_with_shap)\n",
    "    .set_target_feature(\"recidivism_within_2_years\")\n",
    ")\n",
    "\n",
    "ww = WitWidget(config_builder, height=800)"
   ]
  },
  {
   "cell_type": "markdown",
   "metadata": {
    "cell_id": "00010-66866f36-6874-41b7-8218-77ead165d334",
    "colab_type": "text",
    "deepnote_cell_height": 800.234375,
    "deepnote_cell_type": "markdown",
    "id": "AsFCKdt2HJHO"
   },
   "source": [
    "#### What-If Tool exploration ideas\n",
    "\n",
    "- Organize datapoints by \"inference score\" (can do this through binning or use of scatter plot) to see points ordered by how likely they were determined to re-offend.\n",
    "  - Select a point near the boundary line (where red points turn to blue points)\n",
    "  - Find the nearest counterfactual to see a similar person with a different decision. What is different?\n",
    "  - Look at the partial dependence plots for the selected person. What changes in what features would change the decision on this person?\n",
    "- Explore the attribution values provided by SHAP.\n",
    "  - For a variety of selected datapoints, look at which features have the highest positive attribution values. These are making the model predict higher risk for this person.\n",
    "  - Look at which features have the lowest negative attribution values as well. These are making the model predict lower risk for this person.\n",
    "  - How well do these attribution scores line up with the partial dependence plots for those datapoints?\n",
    "  - Use the attribution scores in the datapoints visualizations to look for interesting patterns. As one example, you could set the scatter X-axis to \"attributions__age\" and the scatter Y-axis to \"attributions__priors_count\" with the points colored by \"Inference score\" to investigate the relationship between feature importance of those two features and how those relate to the score the model gives for each datapoint being \"High risk\".\n",
    "- In \"Performance and Fairness\" tab, slice the dataset by different features (such as race or sex)\n",
    "  - Look at the confusion matrices for each slice - How does performance compare in those slices? What from the training data may have caused the difference in performance between the slices? What root causes could exist?\n",
    "  - Use the threshold optimization buttons to optimize positive classification thresholds for each slice based on any of the possible fairness constraints - How different do the thresholds have to be to achieve that constraint? How varied are the thresholds depending on the fairness constraint chosen?\n",
    "\n",
    "- In the \"Performance + Fairness\" tab, change the cost ratio so that you can optimize the threshold based off of a non-symmetric cost of false positives vs false negatives. Then click the \"optimize threshold\" button and see the effect on the confusion matrix. \n",
    "  - Slice the dataset by a feature, such as sex or race. How has the new cost ratio affected the disparity in performance between slices? Click the different threshold optimization buttons to see how the changed cost ratio affects the disparity given different fairness constraints.\n",
    "\n"
   ]
  },
  {
   "cell_type": "markdown",
   "metadata": {
    "cell_id": "00011-f5bc6895-9a0c-4178-a9b4-64f555707aa2",
    "colab_type": "text",
    "deepnote_cell_height": 248.75,
    "deepnote_cell_type": "markdown",
    "id": "W9qxcBj72Q_E"
   },
   "source": [
    "#### Further exploration ideas\n",
    "\n",
    "- Edit the training data so that race fields are not included as a feature and train a new model with this data as input (make sure to create a new explainer and a new custom prediction function that filters race out of model input and uses the right explainer and model).\n",
    "- Load the new model with set_compare_custom_predict_fn and compare it with the original model.\n",
    "  - HINT: You'll need to make edits in 3 separate code cells.\n",
    "  - Is there still a racial disparity in model results? If so, what could be the causes?\n",
    "  - How did the SHAP attributions change?"
   ]
  },
  {
   "cell_type": "markdown",
   "metadata": {
    "created_in_deepnote_cell": true,
    "deepnote_cell_type": "markdown",
    "tags": []
   },
   "source": [
    "<a style='text-decoration:none;line-height:16px;display:flex;color:#5B5B62;padding:10px;justify-content:end;' href='https://deepnote.com?utm_source=created-in-deepnote-cell&projectId=6f99e494-88c0-4d9d-8943-c19d4dba913c' target=\"_blank\">\n",
    "<img alt='Created in deepnote.com' style='display:inline;max-height:16px;margin:0px;margin-right:7.5px;' src='data:image/svg+xml;base64,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' > </img>\n",
    "Created in <span style='font-weight:600;margin-left:4px;'>Deepnote</span></a>"
   ]
  }
 ],
 "metadata": {
  "colab": {
   "collapsed_sections": [],
   "name": "WIT COMPAS with SHAP",
   "provenance": []
  },
  "deepnote": {},
  "deepnote_execution_queue": [],
  "deepnote_notebook_id": "f3c3b30d-7a29-47a3-a6e6-89fe2e1d8b52",
  "kernelspec": {
   "display_name": "Python 3",
   "language": "python",
   "name": "python3"
  },
  "language_info": {
   "codemirror_mode": {
    "name": "ipython",
    "version": 3
   },
   "file_extension": ".py",
   "mimetype": "text/x-python",
   "name": "python",
   "nbconvert_exporter": "python",
   "pygments_lexer": "ipython3",
   "version": "3.9.12"
  }
 },
 "nbformat": 4,
 "nbformat_minor": 4
}
